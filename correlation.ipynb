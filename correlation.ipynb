{
 "cells": [
  {
   "cell_type": "markdown",
   "metadata": {
    "id": "7raIDLBmCVNJ"
   },
   "source": [
    "# Describing the data relatively\n",
    "---\n",
    "\n",
    "This worksheet introduces a new library: \n",
    "\n",
    "**scipy**\n",
    "\n",
    "A library of functions for interpolating, optimising, linear regression, etc\n",
    "\n",
    "---\n",
    "\n",
    "A dataset will be read into a dataframe, cleaned, wrangled and so prepared for summarising and the telling of stories through visualisations and summaries.\n",
    "\n",
    "To determine the most appropriate summaries and uses of the data, we can investigate the data to discover a range of statistical measures over an individual series or a combination of series.  A Linear regression is one such investigation.\n",
    "\n",
    "Linear regression reports correlation between the values in two series. We will be doing a simplified version of the linear regression we completed using R.\n",
    "\n",
    "To get the results of a linear regression:  \n",
    "*  import the `linregress` function from the `scipy.stats` package \n",
    "*  run the `linregress` function with the two axes assigning the result to a variable (e.g. `regression`) \n",
    "\n",
    "The result of the linregress function is a set of variables:  \n",
    "*  `slope`, `intercept` - the gradient and y-intercept of the regression line (the line of best fit between the two series) are in `regression.slope` and `regression.intercept`\n",
    "*  `rvalue` - also known as r^2 - the correlation coefficient - this indicates how closely the line drawn from the linear regression data fits the actual data, the closer to 1 the better the fit\n",
    "*  `pvalue` - the probability that you can reject the null hypothesis (that the 2 variables dont affect each other) and prove statistical significance.   \n",
    "*  the standard error is in `regression.stderr` and is the average distance of each data point from the line of best fit \n",
    "\n",
    "\n",
    "Further information [here](https://docs.scipy.org/doc/scipy/reference/generated/scipy.stats.linregress.html)"
   ]
  },
  {
   "cell_type": "markdown",
   "metadata": {
    "id": "DVgw-x5VCVNN"
   },
   "source": [
    "### Exercise 1 - Clean the data \n",
    "---\n",
    "Using the positive psychology dataset - \"https://github.com/lilaceri/Working-with-data-/blob/b157a2feceb7709cf82426932385706d65446270/Data%20Sets%20for%20code%20divisio/Positive_Psychology_2017.csv?raw=true\"\n",
    "* Read the data and display info \n",
    "* Visually check the summary to see which columns have null values\n",
    "* Remove columns with a significant number of null values\n",
    "\n",
    "**Expected Output**\n",
    "```\n",
    "<class 'pandas.core.frame.DataFrame'>\n",
    "RangeIndex: 44 entries, 0 to 43\n",
    "Data columns (total 13 columns):\n",
    " #   Column       Non-Null Count  Dtype  \n",
    "---  ------       --------------  -----  \n",
    " 0   Age          44 non-null     int64  \n",
    " 1   English      44 non-null     object \n",
    " 2   sex          44 non-null     object \n",
    " 3   origin       44 non-null     object \n",
    " 4   Ukresidence  44 non-null     float64\n",
    " 5   MAAS         44 non-null     float64\n",
    " 6   Resilliance  44 non-null     int64  \n",
    " 7   Wellbeing    44 non-null     int64  \n",
    " 8   Stress       44 non-null     int64  \n",
    " 9   selfesteem   44 non-null     int64  \n",
    " 10  LoC          44 non-null     int64  \n",
    " 11  sleep        44 non-null     int64  \n",
    " 12  Year         44 non-null     int64  \n",
    "dtypes: float64(2), int64(8), object(3)\n",
    "memory usage: 4.6+ KB\n",
    "```"
   ]
  },
  {
   "cell_type": "code",
   "execution_count": 5,
   "metadata": {
    "id": "_U5CsP0ECVNO"
   },
   "outputs": [
    {
     "name": "stdout",
     "output_type": "stream",
     "text": [
      "<class 'pandas.core.frame.DataFrame'>\n",
      "RangeIndex: 44 entries, 0 to 43\n",
      "Data columns (total 14 columns):\n",
      " #   Column         Non-Null Count  Dtype  \n",
      "---  ------         --------------  -----  \n",
      " 0   Age            44 non-null     int64  \n",
      " 1   English        44 non-null     object \n",
      " 2   firstlanguage  18 non-null     object \n",
      " 3   sex            44 non-null     object \n",
      " 4   origin         44 non-null     object \n",
      " 5   Ukresidence    44 non-null     float64\n",
      " 6   MAAS           44 non-null     float64\n",
      " 7   Resilliance    44 non-null     int64  \n",
      " 8   Wellbeing      44 non-null     int64  \n",
      " 9   Stress         44 non-null     int64  \n",
      " 10  selfesteem     44 non-null     int64  \n",
      " 11  LoC            44 non-null     int64  \n",
      " 12  sleep          44 non-null     int64  \n",
      " 13  Year           44 non-null     int64  \n",
      "dtypes: float64(2), int64(8), object(4)\n",
      "memory usage: 4.9+ KB\n"
     ]
    },
    {
     "data": {
      "text/html": [
       "<div>\n",
       "<style scoped>\n",
       "    .dataframe tbody tr th:only-of-type {\n",
       "        vertical-align: middle;\n",
       "    }\n",
       "\n",
       "    .dataframe tbody tr th {\n",
       "        vertical-align: top;\n",
       "    }\n",
       "\n",
       "    .dataframe thead th {\n",
       "        text-align: right;\n",
       "    }\n",
       "</style>\n",
       "<table border=\"1\" class=\"dataframe\">\n",
       "  <thead>\n",
       "    <tr style=\"text-align: right;\">\n",
       "      <th></th>\n",
       "      <th>Age</th>\n",
       "      <th>English</th>\n",
       "      <th>sex</th>\n",
       "      <th>origin</th>\n",
       "      <th>Ukresidence</th>\n",
       "      <th>MAAS</th>\n",
       "      <th>Resilliance</th>\n",
       "      <th>Wellbeing</th>\n",
       "      <th>Stress</th>\n",
       "      <th>selfesteem</th>\n",
       "      <th>LoC</th>\n",
       "      <th>sleep</th>\n",
       "      <th>Year</th>\n",
       "    </tr>\n",
       "  </thead>\n",
       "  <tbody>\n",
       "    <tr>\n",
       "      <th>0</th>\n",
       "      <td>24</td>\n",
       "      <td>Your Second Language</td>\n",
       "      <td>Female</td>\n",
       "      <td>Outside Europe</td>\n",
       "      <td>0.0</td>\n",
       "      <td>4.60</td>\n",
       "      <td>44</td>\n",
       "      <td>26</td>\n",
       "      <td>19</td>\n",
       "      <td>22</td>\n",
       "      <td>10</td>\n",
       "      <td>32</td>\n",
       "      <td>2017</td>\n",
       "    </tr>\n",
       "    <tr>\n",
       "      <th>1</th>\n",
       "      <td>22</td>\n",
       "      <td>Your Second Language</td>\n",
       "      <td>Female</td>\n",
       "      <td>Outside Europe</td>\n",
       "      <td>0.0</td>\n",
       "      <td>2.60</td>\n",
       "      <td>29</td>\n",
       "      <td>10</td>\n",
       "      <td>37</td>\n",
       "      <td>9</td>\n",
       "      <td>16</td>\n",
       "      <td>10</td>\n",
       "      <td>2017</td>\n",
       "    </tr>\n",
       "    <tr>\n",
       "      <th>2</th>\n",
       "      <td>26</td>\n",
       "      <td>Your Second Language</td>\n",
       "      <td>Female</td>\n",
       "      <td>Outside Europe</td>\n",
       "      <td>0.0</td>\n",
       "      <td>4.13</td>\n",
       "      <td>26</td>\n",
       "      <td>20</td>\n",
       "      <td>20</td>\n",
       "      <td>18</td>\n",
       "      <td>20</td>\n",
       "      <td>24</td>\n",
       "      <td>2017</td>\n",
       "    </tr>\n",
       "    <tr>\n",
       "      <th>3</th>\n",
       "      <td>23</td>\n",
       "      <td>Your Second Language</td>\n",
       "      <td>Male</td>\n",
       "      <td>Outside Europe</td>\n",
       "      <td>0.0</td>\n",
       "      <td>2.77</td>\n",
       "      <td>30</td>\n",
       "      <td>16</td>\n",
       "      <td>28</td>\n",
       "      <td>20</td>\n",
       "      <td>17</td>\n",
       "      <td>10</td>\n",
       "      <td>2017</td>\n",
       "    </tr>\n",
       "    <tr>\n",
       "      <th>4</th>\n",
       "      <td>25</td>\n",
       "      <td>Your Second Language</td>\n",
       "      <td>Female</td>\n",
       "      <td>Outside Europe</td>\n",
       "      <td>0.0</td>\n",
       "      <td>3.80</td>\n",
       "      <td>33</td>\n",
       "      <td>27</td>\n",
       "      <td>15</td>\n",
       "      <td>18</td>\n",
       "      <td>12</td>\n",
       "      <td>17</td>\n",
       "      <td>2017</td>\n",
       "    </tr>\n",
       "  </tbody>\n",
       "</table>\n",
       "</div>"
      ],
      "text/plain": [
       "   Age               English     sex          origin  Ukresidence  MAAS  \\\n",
       "0   24  Your Second Language  Female  Outside Europe          0.0  4.60   \n",
       "1   22  Your Second Language  Female  Outside Europe          0.0  2.60   \n",
       "2   26  Your Second Language  Female  Outside Europe          0.0  4.13   \n",
       "3   23  Your Second Language    Male  Outside Europe          0.0  2.77   \n",
       "4   25  Your Second Language  Female  Outside Europe          0.0  3.80   \n",
       "\n",
       "   Resilliance  Wellbeing  Stress  selfesteem  LoC  sleep  Year  \n",
       "0           44         26      19          22   10     32  2017  \n",
       "1           29         10      37           9   16     10  2017  \n",
       "2           26         20      20          18   20     24  2017  \n",
       "3           30         16      28          20   17     10  2017  \n",
       "4           33         27      15          18   12     17  2017  "
      ]
     },
     "execution_count": 5,
     "metadata": {},
     "output_type": "execute_result"
    }
   ],
   "source": [
    "import pandas as pd\n",
    "import matplotlib.pyplot as plt\n",
    " \n",
    "import numpy as np \n",
    "from scipy.stats import linregress\n",
    "\n",
    "data = pd.read_csv(\"https://github.com/lilaceri/Working-with-data-/blob/b157a2feceb7709cf82426932385706d65446270/Data%20Sets%20for%20code%20divisio/Positive_Psychology_2017.csv?raw=true\")\n",
    "data.info()\n",
    "\n",
    "data_1 = data.drop([\"firstlanguage\"], axis=1)\n",
    "data_1.head()"
   ]
  },
  {
   "cell_type": "markdown",
   "metadata": {
    "id": "w5_G1iWYCVNP"
   },
   "source": [
    "### Exercise 2 - Check for outliers \n",
    "---\n",
    "We briefly mentioned outliers in the R and stats presentation. An outlier is an abnormal value in the data that is either extremely high or low compared to the rest of the data. Outliers can skew results. \n",
    "\n",
    "A value is considered to be an outlier if it is > Q3 + 1.5*IQR or < Q1-1.5*IQR or more than 2 standard deviations from the mean. Q3= value at 75% of data, Q1 = value at 25% of the data, IQR is the interquartile range, the difference between Q3 and Q1.  \n",
    "\n",
    "We can check for outliers using a Box plot.\n",
    "\n",
    "*(The upper line on the boxplots arm is Q3+1.5*iqr, the lower line is Q1-1.5*iqr, the middle line of the box is the mean and the top of the box is Q3 and the bottom of the box is Q1)\n",
    "\n",
    "1. Using either matplotlib or seaborn, create a boxplot of `Wellbeing` and a separate boxplot of `selfesteem`\n",
    "2. use `plt.show()` to separate the graphs \n",
    "3. Can you see any outliers? Are they high or low?\n",
    "\n",
    "**Expected Output**\n",
    "\n",
    "https://docs.google.com/presentation/d/e/2PACX-1vQBji5MrvtdeXCtP2PJzhPLKqXXuLMYjy4nCIzXpJLoye38IzetN5amZd6pU9e4io3bTUvE6Slg_hIk/pub?start=false&loop=false&delayms=3000\n"
   ]
  },
  {
   "cell_type": "code",
   "execution_count": 7,
   "metadata": {
    "id": "sLT4pozqCVNQ"
   },
   "outputs": [
    {
     "data": {
      "image/png": "[encoded data removed]",
      "text/plain": [
       "<Figure size 432x288 with 1 Axes>"
      ]
     },
     "metadata": {
      "needs_background": "light"
     },
     "output_type": "display_data"
    },
    {
     "data": {
      "image/png": "[encoded data removed]",
      "text/plain": [
       "<Figure size 432x288 with 1 Axes>"
      ]
     },
     "metadata": {
      "needs_background": "light"
     },
     "output_type": "display_data"
    }
   ],
   "source": [
    "import seaborn as sns\n",
    "sns.boxplot(y=\"Wellbeing\", data=data_1)\n",
    "plt.show()\n",
    "sns.boxplot(y=\"Stress\", data=data_1)\n",
    "plt.show()"
   ]
  },
  {
   "cell_type": "markdown",
   "metadata": {
    "id": "8VCT8LnOCVNQ"
   },
   "source": [
    "### Exercise 3 - Removing outliers\n",
    "---\n",
    "Create a function called `remove_outliers(df, column)` to remove outliers from a given column in a given dataframe.  Use the function to remove outliers from the `Wellbeing` column.  Then use the function to remove the outliers from the `selfesteem` columns. \n",
    "\n",
    "The function will:\n",
    "\n",
    "1. Store the values for Q1 and Q3 in 2 separate variables   *Hint: you can use `.quantile(0.75)` and `.quantile(0.25)` to get Q3 and Q1 respectively*  \n",
    "2. Calculate the interquartile range(IQR) using `Q3` - `Q1`  \n",
    "3. Create a variable which will store the value for the `upper_limit` (`Q3` + 1.5*`IQR`)  \n",
    "4. Create another variable which assigns the value for the `lower_limit` (`Q1` - 1.5*`IQR`)  \n",
    "5. Filter all rows where values are NOT outliers into a new dataframe called `df_normal`\n",
    "6. Return df_normal\n",
    "\n",
    "Run the function twice, once for each column.\n",
    "Show the info for the resulting dataframe\n",
    "\n",
    "**Test output**:  \n",
    "```\n",
    "<class 'pandas.core.frame.DataFrame'>\n",
    "Int64Index: 41 entries, 0 to 43\n",
    "Data columns (total 13 columns):\n",
    " #   Column       Non-Null Count  Dtype  \n",
    "---  ------       --------------  -----  \n",
    " 0   Age          41 non-null     int64  \n",
    " 1   English      41 non-null     object \n",
    " 2   sex          41 non-null     object \n",
    " 3   origin       41 non-null     object \n",
    " 4   Ukresidence  41 non-null     float64\n",
    " 5   MAAS         41 non-null     float64\n",
    " 6   Resilliance  41 non-null     int64  \n",
    " 7   Wellbeing    41 non-null     int64  \n",
    " 8   Stress       41 non-null     int64  \n",
    " 9   selfesteem   41 non-null     int64  \n",
    " 10  LoC          41 non-null     int64  \n",
    " 11  sleep        41 non-null     int64  \n",
    " 12  Year         41 non-null     int64  \n",
    "dtypes: float64(2), int64(8), object(3)\n",
    "memory usage: 4.5+ KB\n",
    "```\n"
   ]
  },
  {
   "cell_type": "code",
   "execution_count": 37,
   "metadata": {
    "id": "wFvT_TtjCVNR"
   },
   "outputs": [
    {
     "name": "stdout",
     "output_type": "stream",
     "text": [
      "<class 'pandas.core.frame.DataFrame'>\n",
      "Int64Index: 41 entries, 0 to 43\n",
      "Data columns (total 13 columns):\n",
      " #   Column       Non-Null Count  Dtype  \n",
      "---  ------       --------------  -----  \n",
      " 0   Age          41 non-null     int64  \n",
      " 1   English      41 non-null     object \n",
      " 2   sex          41 non-null     object \n",
      " 3   origin       41 non-null     object \n",
      " 4   Ukresidence  41 non-null     float64\n",
      " 5   MAAS         41 non-null     float64\n",
      " 6   Resilliance  41 non-null     int64  \n",
      " 7   Wellbeing    41 non-null     int64  \n",
      " 8   Stress       41 non-null     int64  \n",
      " 9   selfesteem   41 non-null     int64  \n",
      " 10  LoC          41 non-null     int64  \n",
      " 11  sleep        41 non-null     int64  \n",
      " 12  Year         41 non-null     int64  \n",
      "dtypes: float64(2), int64(8), object(3)\n",
      "memory usage: 4.5+ KB\n"
     ]
    }
   ],
   "source": [
    "def remove_outliers(df, column):\n",
    "    q1 = df[column].quantile(q =.25)\n",
    "    q3 = df[column].quantile(q =.75)\n",
    "    iqr = q3 - q1\n",
    "    upper_limit = (q3 + 1.5*iqr)\n",
    "    lower_limit = (q1 - 1.5*iqr)\n",
    "    df_normal = df[(df[column] > lower_limit) & (df[column] < upper_limit)] \n",
    "    return df_normal\n",
    "\n",
    "data_2 =remove_outliers(data_1, \"Wellbeing\")\n",
    "data_norm =remove_outliers(data_2, \"selfesteem\")\n",
    "data_norm.info()\n"
   ]
  },
  {
   "cell_type": "markdown",
   "metadata": {
    "id": "wRs6sfE-CVNR"
   },
   "source": [
    "### Exercise 4 - Checking for normality\n",
    "---\n",
    "\n",
    "Linear regressions assume that the data is normally distributed (Gaussian) and therefore has the bell curved shape and a similar mean and median (this would be true if the mean was centred like it is in Gaussian data). \n",
    "\n",
    "1. Use seaborn's distplot to check the shape of the wellbeing and selfesteem columns.  Do they look normally distributed (Gaussian)?\n",
    "\n",
    "2. Compare the mean and median of `Wellbeing` - are they similar? \n",
    "3. Compare the mean and median of `stress` - are they similar?"
   ]
  },
  {
   "cell_type": "code",
   "execution_count": 44,
   "metadata": {
    "id": "HOxGYfg-CVNS"
   },
   "outputs": [
    {
     "data": {
      "image/png": "[encoded data removed]",
      "text/plain": [
       "<Figure size 360x360 with 1 Axes>"
      ]
     },
     "metadata": {
      "needs_background": "light"
     },
     "output_type": "display_data"
    },
    {
     "data": {
      "image/png": "[encoded data removed]",
      "text/plain": [
       "<Figure size 360x360 with 1 Axes>"
      ]
     },
     "metadata": {
      "needs_background": "light"
     },
     "output_type": "display_data"
    },
    {
     "data": {
      "image/png": "[encoded data removed]",
      "text/plain": [
       "<Figure size 360x360 with 1 Axes>"
      ]
     },
     "metadata": {
      "needs_background": "light"
     },
     "output_type": "display_data"
    },
    {
     "data": {
      "text/html": [
       "<div>\n",
       "<style scoped>\n",
       "    .dataframe tbody tr th:only-of-type {\n",
       "        vertical-align: middle;\n",
       "    }\n",
       "\n",
       "    .dataframe tbody tr th {\n",
       "        vertical-align: top;\n",
       "    }\n",
       "\n",
       "    .dataframe thead th {\n",
       "        text-align: right;\n",
       "    }\n",
       "</style>\n",
       "<table border=\"1\" class=\"dataframe\">\n",
       "  <thead>\n",
       "    <tr style=\"text-align: right;\">\n",
       "      <th></th>\n",
       "      <th>Wellbeing</th>\n",
       "      <th>Stress</th>\n",
       "    </tr>\n",
       "  </thead>\n",
       "  <tbody>\n",
       "    <tr>\n",
       "      <th>count</th>\n",
       "      <td>41.000000</td>\n",
       "      <td>41.000000</td>\n",
       "    </tr>\n",
       "    <tr>\n",
       "      <th>mean</th>\n",
       "      <td>25.146341</td>\n",
       "      <td>21.195122</td>\n",
       "    </tr>\n",
       "    <tr>\n",
       "      <th>std</th>\n",
       "      <td>6.498311</td>\n",
       "      <td>7.988177</td>\n",
       "    </tr>\n",
       "    <tr>\n",
       "      <th>min</th>\n",
       "      <td>9.000000</td>\n",
       "      <td>3.000000</td>\n",
       "    </tr>\n",
       "    <tr>\n",
       "      <th>25%</th>\n",
       "      <td>22.000000</td>\n",
       "      <td>17.000000</td>\n",
       "    </tr>\n",
       "    <tr>\n",
       "      <th>50%</th>\n",
       "      <td>26.000000</td>\n",
       "      <td>21.000000</td>\n",
       "    </tr>\n",
       "    <tr>\n",
       "      <th>75%</th>\n",
       "      <td>29.000000</td>\n",
       "      <td>27.000000</td>\n",
       "    </tr>\n",
       "    <tr>\n",
       "      <th>max</th>\n",
       "      <td>38.000000</td>\n",
       "      <td>37.000000</td>\n",
       "    </tr>\n",
       "  </tbody>\n",
       "</table>\n",
       "</div>"
      ],
      "text/plain": [
       "       Wellbeing     Stress\n",
       "count  41.000000  41.000000\n",
       "mean   25.146341  21.195122\n",
       "std     6.498311   7.988177\n",
       "min     9.000000   3.000000\n",
       "25%    22.000000  17.000000\n",
       "50%    26.000000  21.000000\n",
       "75%    29.000000  27.000000\n",
       "max    38.000000  37.000000"
      ]
     },
     "execution_count": 44,
     "metadata": {},
     "output_type": "execute_result"
    }
   ],
   "source": [
    "ax = sns.displot(data_norm[\"Wellbeing\"])\n",
    "ax = sns.displot(data_norm[\"selfesteem\"])\n",
    "ax = sns.displot(data_norm[\"Stress\"])\n",
    "plt.show()\n",
    "\n",
    "data_norm[[\"Wellbeing\", \"Stress\"]].describe()"
   ]
  },
  {
   "cell_type": "markdown",
   "metadata": {
    "id": "9nIUQF5TCVNT"
   },
   "source": [
    "### Exercise 5 - Check which variables are most highly correlated\n",
    "---\n",
    "Using the dataframe.corr() function and seaborn's heatmap, create a correlation heatmap matrix to check which variables are most highly correlated. \n",
    "  \n",
    "Values closest to 1 mean the variables are positively correlated with each other with 1 meaning 100% correlated\n",
    "Values close to -1 mean the variables are negatively correlated with each other with -1 meaning 100% negatively correlated\n",
    "\n",
    "1. create the correlation matrix assigning it to a variable using the .corr() function and rounding to 2 decimal places\n",
    "2. create a heatmap of the correlation matrix using `sns.heatmap`\n",
    "3. Which variables are the most highly correlated with each other (closest to 1 or -1)?\n"
   ]
  },
  {
   "cell_type": "code",
   "execution_count": 45,
   "metadata": {
    "id": "GyYYASZvCVNT"
   },
   "outputs": [
    {
     "data": {
      "text/plain": [
       "<AxesSubplot:>"
      ]
     },
     "execution_count": 45,
     "metadata": {},
     "output_type": "execute_result"
    },
    {
     "data": {
      "image/png": "[encoded data removed]",
      "text/plain": [
       "<Figure size 432x288 with 2 Axes>"
      ]
     },
     "metadata": {
      "needs_background": "light"
     },
     "output_type": "display_data"
    }
   ],
   "source": [
    "corr_matrix = data_norm.corr().round(2)\n",
    "sns.heatmap(corr_matrix, annot = True)"
   ]
  },
  {
   "cell_type": "markdown",
   "metadata": {
    "id": "jZgZHqbHCVNU"
   },
   "source": [
    "### Exercise 6 - Linear regression \n",
    "---\n",
    "Using the `linregress` function, perform a linear regression on the Wellbeing and selfesteem columns   \n",
    "To do this:\n",
    "\n",
    "1. `from scipy.stats import linregress`\n",
    "2. create a variable 'x' which stores the Wellbeing column\n",
    "3. create a variable 'y' which stores the selfesteem column\n",
    "4. create a variable called regression and assign the result of running the linregress function with x, y as its parameters ( linregress(x,y) )\n",
    "5. display the regression\n",
    "6. display the slope (regression.slope)\n",
    "7. display the y-intercept\n",
    "8. display the r^2 value (rvalue**2)\n",
    "9. display the pvalue \n"
   ]
  },
  {
   "cell_type": "code",
   "execution_count": 50,
   "metadata": {
    "id": "5SpVEyHZCVNU"
   },
   "outputs": [
    {
     "data": {
      "text/plain": [
       "LinregressResult(slope=0.4917261096831952, intercept=7.53732636382014, rvalue=0.6925218140357212, pvalue=5.261854953123192e-07, stderr=0.08202227296197874, intercept_stderr=2.1286898800697713)"
      ]
     },
     "metadata": {},
     "output_type": "display_data"
    },
    {
     "data": {
      "text/plain": [
       "0.4917261096831952"
      ]
     },
     "metadata": {},
     "output_type": "display_data"
    },
    {
     "data": {
      "text/plain": [
       "0.47958646291532603"
      ]
     },
     "metadata": {},
     "output_type": "display_data"
    },
    {
     "data": {
      "text/plain": [
       "7.53732636382014"
      ]
     },
     "metadata": {},
     "output_type": "display_data"
    },
    {
     "data": {
      "text/plain": [
       "5.261854953123192e-07"
      ]
     },
     "metadata": {},
     "output_type": "display_data"
    }
   ],
   "source": [
    "x = data_norm[\"Wellbeing\"]\n",
    "y = data_norm[\"selfesteem\"]\n",
    "regression = linregress(x,y)\n",
    "display(regression)\n",
    "display(regression.slope)\n",
    "display(regression.rvalue**2)\n",
    "display(regression.intercept)\n",
    "display(regression.pvalue)"
   ]
  },
  {
   "cell_type": "markdown",
   "metadata": {
    "id": "ordhi_WUCVNU"
   },
   "source": [
    "### Exercise 7 - understanding the output \n",
    "---\n",
    "The r^2 value (rvalue**2) helps us understand how much our independent variable (x) is predicting our dependent variable (y). The closer to 1 the rvalue is the more  the change in Y is explained by X. So an rvalue of 0.7 means that 70% of Y's variance can be explained by X. \n",
    "\n",
    "Our pvalue shows how significant our model is, if the pvalue is < 0.05 then the model is significant. \n",
    "\n",
    "On this basis, write below the findings of the above regression.\n",
    "* is the model significant?\n",
    "* how much is the change in y explained by x? "
   ]
  },
  {
   "cell_type": "markdown",
   "metadata": {
    "id": "wVCxB73eCVNV"
   },
   "source": [
    "**Write about the findings here**: "
   ]
  },
  {
   "cell_type": "markdown",
   "metadata": {
    "id": "z7TcYPrOCVNV"
   },
   "source": [
    "### Exercise 8 - Linear regression with other variables \n",
    "---\n",
    "\n",
    "Referring back to the correlation heatmap..  \n",
    "Repeat exercise 6 but with the variables that were the most highly correlated according to the heatmap.   \n",
    "* write a comment comparing the results of this regression with the one you created in exercise 6"
   ]
  },
  {
   "cell_type": "code",
   "execution_count": null,
   "metadata": {
    "id": "WHJi2r8zCVNV"
   },
   "outputs": [],
   "source": []
  },
  {
   "cell_type": "markdown",
   "metadata": {
    "id": "SaFhxdjEzKNL"
   },
   "source": [
    "**Comment here**: "
   ]
  },
  {
   "cell_type": "markdown",
   "metadata": {
    "id": "dvvgY68hCVNW"
   },
   "source": [
    "### Exercise 9 - Plotting a line of best fit \n",
    "---\n",
    "To create a line of best fit we use y = slope\\*x + intercept. \n",
    "\n",
    "Using matplotlib (dont forget to import it):\n",
    "\n",
    "* create a scatter graph between Wellbeing and selfesteem \n",
    "* plot a line of best fit using the results in exercise 6  (y = slope * x + intercept)  "
   ]
  },
  {
   "cell_type": "code",
   "execution_count": null,
   "metadata": {
    "id": "KVT8QqYCCVNW"
   },
   "outputs": [],
   "source": []
  },
  {
   "cell_type": "markdown",
   "metadata": {
    "id": "-KcUIkXHCVNW"
   },
   "source": [
    "### Exercise 10 - using seaborn to plot a regression line \n",
    "---\n",
    "\n",
    "Use seaborns regplot function to create a scatter graph with line of best fit of the variables you used in exercise 8.\n",
    "\n",
    "* Compare the 'Wellbeing' and 'selfesteem' graph to the graph you created in exercise 9"
   ]
  },
  {
   "cell_type": "code",
   "execution_count": null,
   "metadata": {
    "id": "-xVsVD4GCVNX"
   },
   "outputs": [],
   "source": []
  }
 ],
 "metadata": {
  "colab": {
   "collapsed_sections": [],
   "name": "Correlations and models.ipynb",
   "provenance": []
  },
  "kernelspec": {
   "display_name": "Python 3",
   "language": "python",
   "name": "python3"
  },
  "language_info": {
   "codemirror_mode": {
    "name": "ipython",
    "version": 3
   },
   "file_extension": ".py",
   "mimetype": "text/x-python",
   "name": "python",
   "nbconvert_exporter": "python",
   "pygments_lexer": "ipython3",
   "version": "3.8.10"
  }
 },
 "nbformat": 4,
 "nbformat_minor": 1
}
