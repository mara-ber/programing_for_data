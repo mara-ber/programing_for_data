{
  "nbformat": 4,
  "nbformat_minor": 5,
  "metadata": {
    "kernelspec": {
      "display_name": "R",
      "language": "R",
      "name": "ir"
    },
    "colab": {
      "name": "R - Student performance.ipynb",
      "provenance": [],
      "collapsed_sections": [],
      "include_colab_link": true
    }
  },
  "cells": [
    {
      "cell_type": "markdown",
      "metadata": {
        "id": "view-in-github",
        "colab_type": "text"
      },
      "source": [
        "<a href=\"https://colab.research.google.com/github/mara-ber/programing_for_data/blob/main/R_Student_performance.ipynb\" target=\"_parent\"><img src=\"https://colab.research.google.com/assets/colab-badge.svg\" alt=\"Open In Colab\"/></a>"
      ]
    },
    {
      "cell_type": "markdown",
      "metadata": {
        "id": "13ce0267"
      },
      "source": [
        "# Using R for data analysis # \n",
        "\n",
        "R is a powerful statistical tool used frequently in science academia. Similar to Python, to use R effectively, we must use a variety of libraries.  \n",
        "\n",
        "**Run the cell block below to install and load the necessary packages**"
      ],
      "id": "13ce0267"
    },
    {
      "cell_type": "code",
      "metadata": {
        "id": "92ad1352",
        "colab": {
          "base_uri": "https://localhost:8080/"
        },
        "outputId": "6c2fe972-d620-4c17-c707-394ba243a5a1"
      },
      "source": [
        "# this code needs to be run once to install the packages on your system\n",
        "# install.packages(\"tidyverse\")\n",
        "# install.packages(\"ggplot2\")\n",
        "install.packages(\"fastDummies\")"
      ],
      "id": "92ad1352",
      "execution_count": 1,
      "outputs": [
        {
          "output_type": "stream",
          "text": [
            "Installing package into ‘/usr/local/lib/R/site-library’\n",
            "(as ‘lib’ is unspecified)\n",
            "\n"
          ],
          "name": "stderr"
        }
      ]
    },
    {
      "cell_type": "markdown",
      "metadata": {
        "id": "3wLXFZ00rPXM"
      },
      "source": [
        "**Run the cell block below here to open the packages ready for use**"
      ],
      "id": "3wLXFZ00rPXM"
    },
    {
      "cell_type": "code",
      "metadata": {
        "id": "7ad1e610",
        "outputId": "24735f5c-4ed3-4ed1-fa32-52a99b60cc92",
        "colab": {
          "base_uri": "https://localhost:8080/"
        }
      },
      "source": [
        "# this code needs to be run to open the packages \n",
        "\n",
        "# tidyverse includes dpylr which includes all the functions such as mutate, select, summarise etc\n",
        "library(\"tidyverse\")\n",
        "\n",
        "# ggplot2 contains all the visualisation tools (similar to matplotlib)\n",
        "library(\"ggplot2\")\n",
        "\n",
        "# fastdummies is for dummy coding\n",
        "library(\"fastDummies\")\n",
        "\n",
        "# displaying in real numbers \n",
        "\n",
        "options(scipen = 999)"
      ],
      "id": "7ad1e610",
      "execution_count": 2,
      "outputs": [
        {
          "output_type": "stream",
          "text": [
            "Warning message in system(\"timedatectl\", intern = TRUE):\n",
            "“running command 'timedatectl' had status 1”\n",
            "── \u001b[1mAttaching packages\u001b[22m ─────────────────────────────────────── tidyverse 1.3.1 ──\n",
            "\n",
            "\u001b[32m✔\u001b[39m \u001b[34mggplot2\u001b[39m 3.3.3     \u001b[32m✔\u001b[39m \u001b[34mpurrr  \u001b[39m 0.3.4\n",
            "\u001b[32m✔\u001b[39m \u001b[34mtibble \u001b[39m 3.1.2     \u001b[32m✔\u001b[39m \u001b[34mdplyr  \u001b[39m 1.0.6\n",
            "\u001b[32m✔\u001b[39m \u001b[34mtidyr  \u001b[39m 1.1.3     \u001b[32m✔\u001b[39m \u001b[34mstringr\u001b[39m 1.4.0\n",
            "\u001b[32m✔\u001b[39m \u001b[34mreadr  \u001b[39m 1.4.0     \u001b[32m✔\u001b[39m \u001b[34mforcats\u001b[39m 0.5.1\n",
            "\n",
            "── \u001b[1mConflicts\u001b[22m ────────────────────────────────────────── tidyverse_conflicts() ──\n",
            "\u001b[31m✖\u001b[39m \u001b[34mdplyr\u001b[39m::\u001b[32mfilter()\u001b[39m masks \u001b[34mstats\u001b[39m::filter()\n",
            "\u001b[31m✖\u001b[39m \u001b[34mdplyr\u001b[39m::\u001b[32mlag()\u001b[39m    masks \u001b[34mstats\u001b[39m::lag()\n",
            "\n"
          ],
          "name": "stderr"
        }
      ]
    },
    {
      "cell_type": "markdown",
      "metadata": {
        "id": "e7e51ad2"
      },
      "source": [
        "### In this worksheet you will be analysing student performance data and performing a multiple linear regression. ###\n",
        "\n",
        "url = \"https://raw.githubusercontent.com/lilaceri/Working-with-data-/main/exams.csv\"\n",
        "\n",
        "### Setting variables ### \n",
        "\n",
        "```variable <- ...```\n",
        "\n",
        "**In R we use <- instead of using = python** \n",
        "\n",
        "### Reading data from our computer into a variable ###\n",
        "\n",
        "```df <- read_csv(\"data.csv\")```\n",
        "\n",
        "### Reading data from a URL into a variable ###\n",
        "\n",
        "```df <- read_csv(\"https://raw.github.com/file.csv\")```\n",
        "\n",
        "### Look at the first few rows of the dataset ###\n",
        "\n",
        "```head(data)```\n",
        "\n",
        "### Summary of the data ###\n",
        "\n",
        "```summary(data)```"
      ],
      "id": "e7e51ad2"
    },
    {
      "cell_type": "markdown",
      "metadata": {
        "id": "f80ef2b6"
      },
      "source": [
        "## Exercise 1\n",
        "---\n",
        "\n",
        "Read the data into a variable and have a look at it. "
      ],
      "id": "f80ef2b6"
    },
    {
      "cell_type": "code",
      "metadata": {
        "id": "278012b6",
        "outputId": "47500247-ccd6-4e54-d0d6-568f9fe5d31d",
        "colab": {
          "base_uri": "https://localhost:8080/",
          "height": 521
        }
      },
      "source": [
        "performance <- read.csv( \"https://raw.githubusercontent.com/lilaceri/Working-with-data-/main/exams.csv\")\n",
        "head(performance)\n",
        "summary(performance)"
      ],
      "id": "278012b6",
      "execution_count": 4,
      "outputs": [
        {
          "output_type": "display_data",
          "data": {
            "text/plain": [
              "  gender ethnicity parental_education lunch        preparation_course\n",
              "1 female group E   some college       free/reduced none              \n",
              "2 male   group C   some college       standard     completed         \n",
              "3 female group B   some high school   free/reduced completed         \n",
              "4 male   group D   some high school   standard     completed         \n",
              "5 female group C   high school        free/reduced completed         \n",
              "6 female group B   some college       free/reduced none              \n",
              "  math_score reading_score writing_score\n",
              "1 65         76            71           \n",
              "2 75         72            69           \n",
              "3 62         56            61           \n",
              "4 60         60            59           \n",
              "5 34         54            55           \n",
              "6 53         66            61           "
            ],
            "text/latex": "A data.frame: 6 × 8\n\\begin{tabular}{r|llllllll}\n  & gender & ethnicity & parental\\_education & lunch & preparation\\_course & math\\_score & reading\\_score & writing\\_score\\\\\n  & <chr> & <chr> & <chr> & <chr> & <chr> & <int> & <int> & <int>\\\\\n\\hline\n\t1 & female & group E & some college     & free/reduced & none      & 65 & 76 & 71\\\\\n\t2 & male   & group C & some college     & standard     & completed & 75 & 72 & 69\\\\\n\t3 & female & group B & some high school & free/reduced & completed & 62 & 56 & 61\\\\\n\t4 & male   & group D & some high school & standard     & completed & 60 & 60 & 59\\\\\n\t5 & female & group C & high school      & free/reduced & completed & 34 & 54 & 55\\\\\n\t6 & female & group B & some college     & free/reduced & none      & 53 & 66 & 61\\\\\n\\end{tabular}\n",
            "text/markdown": "\nA data.frame: 6 × 8\n\n| <!--/--> | gender &lt;chr&gt; | ethnicity &lt;chr&gt; | parental_education &lt;chr&gt; | lunch &lt;chr&gt; | preparation_course &lt;chr&gt; | math_score &lt;int&gt; | reading_score &lt;int&gt; | writing_score &lt;int&gt; |\n|---|---|---|---|---|---|---|---|---|\n| 1 | female | group E | some college     | free/reduced | none      | 65 | 76 | 71 |\n| 2 | male   | group C | some college     | standard     | completed | 75 | 72 | 69 |\n| 3 | female | group B | some high school | free/reduced | completed | 62 | 56 | 61 |\n| 4 | male   | group D | some high school | standard     | completed | 60 | 60 | 59 |\n| 5 | female | group C | high school      | free/reduced | completed | 34 | 54 | 55 |\n| 6 | female | group B | some college     | free/reduced | none      | 53 | 66 | 61 |\n\n",
            "text/html": [
              "<table class=\"dataframe\">\n",
              "<caption>A data.frame: 6 × 8</caption>\n",
              "<thead>\n",
              "\t<tr><th></th><th scope=col>gender</th><th scope=col>ethnicity</th><th scope=col>parental_education</th><th scope=col>lunch</th><th scope=col>preparation_course</th><th scope=col>math_score</th><th scope=col>reading_score</th><th scope=col>writing_score</th></tr>\n",
              "\t<tr><th></th><th scope=col>&lt;chr&gt;</th><th scope=col>&lt;chr&gt;</th><th scope=col>&lt;chr&gt;</th><th scope=col>&lt;chr&gt;</th><th scope=col>&lt;chr&gt;</th><th scope=col>&lt;int&gt;</th><th scope=col>&lt;int&gt;</th><th scope=col>&lt;int&gt;</th></tr>\n",
              "</thead>\n",
              "<tbody>\n",
              "\t<tr><th scope=row>1</th><td>female</td><td>group E</td><td>some college    </td><td>free/reduced</td><td>none     </td><td>65</td><td>76</td><td>71</td></tr>\n",
              "\t<tr><th scope=row>2</th><td>male  </td><td>group C</td><td>some college    </td><td>standard    </td><td>completed</td><td>75</td><td>72</td><td>69</td></tr>\n",
              "\t<tr><th scope=row>3</th><td>female</td><td>group B</td><td>some high school</td><td>free/reduced</td><td>completed</td><td>62</td><td>56</td><td>61</td></tr>\n",
              "\t<tr><th scope=row>4</th><td>male  </td><td>group D</td><td>some high school</td><td>standard    </td><td>completed</td><td>60</td><td>60</td><td>59</td></tr>\n",
              "\t<tr><th scope=row>5</th><td>female</td><td>group C</td><td>high school     </td><td>free/reduced</td><td>completed</td><td>34</td><td>54</td><td>55</td></tr>\n",
              "\t<tr><th scope=row>6</th><td>female</td><td>group B</td><td>some college    </td><td>free/reduced</td><td>none     </td><td>53</td><td>66</td><td>61</td></tr>\n",
              "</tbody>\n",
              "</table>\n"
            ]
          },
          "metadata": {
            "tags": []
          }
        },
        {
          "output_type": "display_data",
          "data": {
            "text/plain": [
              "    gender           ethnicity         parental_education    lunch          \n",
              " Length:1000        Length:1000        Length:1000        Length:1000       \n",
              " Class :character   Class :character   Class :character   Class :character  \n",
              " Mode  :character   Mode  :character   Mode  :character   Mode  :character  \n",
              "                                                                            \n",
              "                                                                            \n",
              "                                                                            \n",
              " preparation_course   math_score     reading_score    writing_score   \n",
              " Length:1000        Min.   : 13.00   Min.   : 16.00   Min.   : 12.00  \n",
              " Class :character   1st Qu.: 57.00   1st Qu.: 60.00   1st Qu.: 58.00  \n",
              " Mode  :character   Median : 67.00   Median : 70.00   Median : 69.00  \n",
              "                    Mean   : 66.86   Mean   : 69.72   Mean   : 68.58  \n",
              "                    3rd Qu.: 77.00   3rd Qu.: 80.00   3rd Qu.: 80.00  \n",
              "                    Max.   :100.00   Max.   :100.00   Max.   :100.00  "
            ]
          },
          "metadata": {
            "tags": []
          }
        }
      ]
    },
    {
      "cell_type": "markdown",
      "metadata": {
        "id": "f22b0df3"
      },
      "source": [
        "# Lets have a look at the data ###\n",
        "\n",
        "We can use the `arrange()` function to sort the data\n",
        "\n",
        "```\n",
        "arranged_column <- arrange(data, column_name)\n",
        "head(arranged_column)\n",
        "tail(arranged_column)\n",
        "summary(arranged_column)\n",
        "```\n",
        "\n",
        "We can use the select() function to look at specific columns\n",
        "\n",
        "```\n",
        "column_specific <- select(data, column_1, column_2)\n",
        "column_specific\n",
        "```\n",
        "\n",
        "\n",
        "\n",
        "### Exercise 2 ###\n",
        "---\n",
        "\n",
        "Now have a go looking at the data in different ways, using the functions above:"
      ],
      "id": "f22b0df3"
    },
    {
      "cell_type": "code",
      "metadata": {
        "id": "e99d1914",
        "outputId": "2fdd373d-7d89-468e-a393-c912f057b331",
        "colab": {
          "base_uri": "https://localhost:8080/",
          "height": 787
        }
      },
      "source": [
        "math_arranged <- arrange(performance, math_score)\n",
        "tail(math_arranged)\n",
        "summary(math_arranged)\n",
        "\n",
        "math_specific <- select(performance, math_score, gender, parental_education)\n",
        "tail(arrange(math_specific, math_score))"
      ],
      "id": "e99d1914",
      "execution_count": 10,
      "outputs": [
        {
          "output_type": "display_data",
          "data": {
            "text/plain": [
              "     gender ethnicity parental_education lunch    preparation_course math_score\n",
              "995  male   group E   some college       standard none               100       \n",
              "996  male   group C   master's degree    standard none               100       \n",
              "997  male   group E   associate's degree standard completed          100       \n",
              "998  male   group C   high school        standard completed          100       \n",
              "999  male   group A   master's degree    standard completed          100       \n",
              "1000 male   group E   some college       standard none               100       \n",
              "     reading_score writing_score\n",
              "995   91            85          \n",
              "996   88            87          \n",
              "997  100           100          \n",
              "998   94            93          \n",
              "999   95            97          \n",
              "1000  81            84          "
            ],
            "text/latex": "A data.frame: 6 × 8\n\\begin{tabular}{r|llllllll}\n  & gender & ethnicity & parental\\_education & lunch & preparation\\_course & math\\_score & reading\\_score & writing\\_score\\\\\n  & <chr> & <chr> & <chr> & <chr> & <chr> & <int> & <int> & <int>\\\\\n\\hline\n\t995 & male & group E & some college       & standard & none      & 100 &  91 &  85\\\\\n\t996 & male & group C & master's degree    & standard & none      & 100 &  88 &  87\\\\\n\t997 & male & group E & associate's degree & standard & completed & 100 & 100 & 100\\\\\n\t998 & male & group C & high school        & standard & completed & 100 &  94 &  93\\\\\n\t999 & male & group A & master's degree    & standard & completed & 100 &  95 &  97\\\\\n\t1000 & male & group E & some college       & standard & none      & 100 &  81 &  84\\\\\n\\end{tabular}\n",
            "text/markdown": "\nA data.frame: 6 × 8\n\n| <!--/--> | gender &lt;chr&gt; | ethnicity &lt;chr&gt; | parental_education &lt;chr&gt; | lunch &lt;chr&gt; | preparation_course &lt;chr&gt; | math_score &lt;int&gt; | reading_score &lt;int&gt; | writing_score &lt;int&gt; |\n|---|---|---|---|---|---|---|---|---|\n| 995 | male | group E | some college       | standard | none      | 100 |  91 |  85 |\n| 996 | male | group C | master's degree    | standard | none      | 100 |  88 |  87 |\n| 997 | male | group E | associate's degree | standard | completed | 100 | 100 | 100 |\n| 998 | male | group C | high school        | standard | completed | 100 |  94 |  93 |\n| 999 | male | group A | master's degree    | standard | completed | 100 |  95 |  97 |\n| 1000 | male | group E | some college       | standard | none      | 100 |  81 |  84 |\n\n",
            "text/html": [
              "<table class=\"dataframe\">\n",
              "<caption>A data.frame: 6 × 8</caption>\n",
              "<thead>\n",
              "\t<tr><th></th><th scope=col>gender</th><th scope=col>ethnicity</th><th scope=col>parental_education</th><th scope=col>lunch</th><th scope=col>preparation_course</th><th scope=col>math_score</th><th scope=col>reading_score</th><th scope=col>writing_score</th></tr>\n",
              "\t<tr><th></th><th scope=col>&lt;chr&gt;</th><th scope=col>&lt;chr&gt;</th><th scope=col>&lt;chr&gt;</th><th scope=col>&lt;chr&gt;</th><th scope=col>&lt;chr&gt;</th><th scope=col>&lt;int&gt;</th><th scope=col>&lt;int&gt;</th><th scope=col>&lt;int&gt;</th></tr>\n",
              "</thead>\n",
              "<tbody>\n",
              "\t<tr><th scope=row>995</th><td>male</td><td>group E</td><td>some college      </td><td>standard</td><td>none     </td><td>100</td><td> 91</td><td> 85</td></tr>\n",
              "\t<tr><th scope=row>996</th><td>male</td><td>group C</td><td>master's degree   </td><td>standard</td><td>none     </td><td>100</td><td> 88</td><td> 87</td></tr>\n",
              "\t<tr><th scope=row>997</th><td>male</td><td>group E</td><td>associate's degree</td><td>standard</td><td>completed</td><td>100</td><td>100</td><td>100</td></tr>\n",
              "\t<tr><th scope=row>998</th><td>male</td><td>group C</td><td>high school       </td><td>standard</td><td>completed</td><td>100</td><td> 94</td><td> 93</td></tr>\n",
              "\t<tr><th scope=row>999</th><td>male</td><td>group A</td><td>master's degree   </td><td>standard</td><td>completed</td><td>100</td><td> 95</td><td> 97</td></tr>\n",
              "\t<tr><th scope=row>1000</th><td>male</td><td>group E</td><td>some college      </td><td>standard</td><td>none     </td><td>100</td><td> 81</td><td> 84</td></tr>\n",
              "</tbody>\n",
              "</table>\n"
            ]
          },
          "metadata": {
            "tags": []
          }
        },
        {
          "output_type": "display_data",
          "data": {
            "text/plain": [
              "    gender           ethnicity         parental_education    lunch          \n",
              " Length:1000        Length:1000        Length:1000        Length:1000       \n",
              " Class :character   Class :character   Class :character   Class :character  \n",
              " Mode  :character   Mode  :character   Mode  :character   Mode  :character  \n",
              "                                                                            \n",
              "                                                                            \n",
              "                                                                            \n",
              " preparation_course   math_score     reading_score    writing_score   \n",
              " Length:1000        Min.   : 13.00   Min.   : 16.00   Min.   : 12.00  \n",
              " Class :character   1st Qu.: 57.00   1st Qu.: 60.00   1st Qu.: 58.00  \n",
              " Mode  :character   Median : 67.00   Median : 70.00   Median : 69.00  \n",
              "                    Mean   : 66.86   Mean   : 69.72   Mean   : 68.58  \n",
              "                    3rd Qu.: 77.00   3rd Qu.: 80.00   3rd Qu.: 80.00  \n",
              "                    Max.   :100.00   Max.   :100.00   Max.   :100.00  "
            ]
          },
          "metadata": {
            "tags": []
          }
        },
        {
          "output_type": "display_data",
          "data": {
            "text/plain": [
              "     math_score gender parental_education\n",
              "995  100        male   some college      \n",
              "996  100        male   master's degree   \n",
              "997  100        male   associate's degree\n",
              "998  100        male   high school       \n",
              "999  100        male   master's degree   \n",
              "1000 100        male   some college      "
            ],
            "text/latex": "A data.frame: 6 × 3\n\\begin{tabular}{r|lll}\n  & math\\_score & gender & parental\\_education\\\\\n  & <int> & <chr> & <chr>\\\\\n\\hline\n\t995 & 100 & male & some college      \\\\\n\t996 & 100 & male & master's degree   \\\\\n\t997 & 100 & male & associate's degree\\\\\n\t998 & 100 & male & high school       \\\\\n\t999 & 100 & male & master's degree   \\\\\n\t1000 & 100 & male & some college      \\\\\n\\end{tabular}\n",
            "text/markdown": "\nA data.frame: 6 × 3\n\n| <!--/--> | math_score &lt;int&gt; | gender &lt;chr&gt; | parental_education &lt;chr&gt; |\n|---|---|---|---|\n| 995 | 100 | male | some college       |\n| 996 | 100 | male | master's degree    |\n| 997 | 100 | male | associate's degree |\n| 998 | 100 | male | high school        |\n| 999 | 100 | male | master's degree    |\n| 1000 | 100 | male | some college       |\n\n",
            "text/html": [
              "<table class=\"dataframe\">\n",
              "<caption>A data.frame: 6 × 3</caption>\n",
              "<thead>\n",
              "\t<tr><th></th><th scope=col>math_score</th><th scope=col>gender</th><th scope=col>parental_education</th></tr>\n",
              "\t<tr><th></th><th scope=col>&lt;int&gt;</th><th scope=col>&lt;chr&gt;</th><th scope=col>&lt;chr&gt;</th></tr>\n",
              "</thead>\n",
              "<tbody>\n",
              "\t<tr><th scope=row>995</th><td>100</td><td>male</td><td>some college      </td></tr>\n",
              "\t<tr><th scope=row>996</th><td>100</td><td>male</td><td>master's degree   </td></tr>\n",
              "\t<tr><th scope=row>997</th><td>100</td><td>male</td><td>associate's degree</td></tr>\n",
              "\t<tr><th scope=row>998</th><td>100</td><td>male</td><td>high school       </td></tr>\n",
              "\t<tr><th scope=row>999</th><td>100</td><td>male</td><td>master's degree   </td></tr>\n",
              "\t<tr><th scope=row>1000</th><td>100</td><td>male</td><td>some college      </td></tr>\n",
              "</tbody>\n",
              "</table>\n"
            ]
          },
          "metadata": {
            "tags": []
          }
        }
      ]
    },
    {
      "cell_type": "markdown",
      "metadata": {
        "id": "ed7b8c0d"
      },
      "source": [
        "# Prepare the data for a linear regression\n",
        "\n",
        "Rows containing null, or error-prone values can affect statistics such as measures of central tendency (e.g. mean, median) and operations such as linear regressions, reducing accuracy.\n",
        "\n",
        "To check for null values we can use:\n",
        "\n",
        "``` is.na(data) ```\n",
        "\n",
        "To remove rows which contain null values we can use:  \n",
        "\n",
        "``` data <- na.omit(data) ```   \n",
        "or \n",
        "\n",
        "``` data <- drop_na(data) ```\n",
        "\n",
        "**Make sure to set it into the dataframe variable to save the change** \n",
        "\n",
        "To check a columns datatype:\n",
        "\n",
        "``` is.numeric(data$column) ```  \n",
        "``` is.character(data$column) ```\n",
        "\n",
        "To change columns datatype to numeric:\n",
        "\n",
        "``` data$column <- as.numeric(data$column) ```  \n",
        "**Make sure to set it into the dataframe variable to save the change**\n",
        "\n",
        "\n",
        "### Exercise 3\n",
        "---\n",
        "\n",
        "Check your dataframe for null values and remove rows with null values if necessary"
      ],
      "id": "ed7b8c0d"
    },
    {
      "cell_type": "code",
      "metadata": {
        "id": "7f261cc0",
        "outputId": "b2d7002b-f07b-4b3f-c0c3-5a6536cd772f",
        "colab": {
          "base_uri": "https://localhost:8080/",
          "height": 1000
        }
      },
      "source": [
        "is.na(performance)"
      ],
      "id": "7f261cc0",
      "execution_count": 11,
      "outputs": [
        {
          "output_type": "display_data",
          "data": {
            "text/plain": [
              "      gender ethnicity parental_education lunch preparation_course math_score\n",
              " [1,] FALSE  FALSE     FALSE              FALSE FALSE              FALSE     \n",
              " [2,] FALSE  FALSE     FALSE              FALSE FALSE              FALSE     \n",
              " [3,] FALSE  FALSE     FALSE              FALSE FALSE              FALSE     \n",
              " [4,] FALSE  FALSE     FALSE              FALSE FALSE              FALSE     \n",
              " [5,] FALSE  FALSE     FALSE              FALSE FALSE              FALSE     \n",
              " [6,] FALSE  FALSE     FALSE              FALSE FALSE              FALSE     \n",
              " [7,] FALSE  FALSE     FALSE              FALSE FALSE              FALSE     \n",
              " [8,] FALSE  FALSE     FALSE              FALSE FALSE              FALSE     \n",
              " [9,] FALSE  FALSE     FALSE              FALSE FALSE              FALSE     \n",
              "[10,] FALSE  FALSE     FALSE              FALSE FALSE              FALSE     \n",
              "[11,] FALSE  FALSE     FALSE              FALSE FALSE              FALSE     \n",
              "[12,] FALSE  FALSE     FALSE              FALSE FALSE              FALSE     \n",
              "[13,] FALSE  FALSE     FALSE              FALSE FALSE              FALSE     \n",
              "[14,] FALSE  FALSE     FALSE              FALSE FALSE              FALSE     \n",
              "[15,] FALSE  FALSE     FALSE              FALSE FALSE              FALSE     \n",
              "[16,] FALSE  FALSE     FALSE              FALSE FALSE              FALSE     \n",
              "[17,] FALSE  FALSE     FALSE              FALSE FALSE              FALSE     \n",
              "[18,] FALSE  FALSE     FALSE              FALSE FALSE              FALSE     \n",
              "[19,] FALSE  FALSE     FALSE              FALSE FALSE              FALSE     \n",
              "[20,] FALSE  FALSE     FALSE              FALSE FALSE              FALSE     \n",
              "[21,] FALSE  FALSE     FALSE              FALSE FALSE              FALSE     \n",
              "[22,] FALSE  FALSE     FALSE              FALSE FALSE              FALSE     \n",
              "[23,] FALSE  FALSE     FALSE              FALSE FALSE              FALSE     \n",
              "[24,] FALSE  FALSE     FALSE              FALSE FALSE              FALSE     \n",
              "[25,] FALSE  FALSE     FALSE              FALSE FALSE              FALSE     \n",
              "[26,] FALSE  FALSE     FALSE              FALSE FALSE              FALSE     \n",
              "[27,] FALSE  FALSE     FALSE              FALSE FALSE              FALSE     \n",
              "[28,] FALSE  FALSE     FALSE              FALSE FALSE              FALSE     \n",
              "[29,] FALSE  FALSE     FALSE              FALSE FALSE              FALSE     \n",
              "[30,] FALSE  FALSE     FALSE              FALSE FALSE              FALSE     \n",
              "[31,] ⋮      ⋮         ⋮                  ⋮     ⋮                  ⋮         \n",
              "[32,] FALSE  FALSE     FALSE              FALSE FALSE              FALSE     \n",
              "[33,] FALSE  FALSE     FALSE              FALSE FALSE              FALSE     \n",
              "[34,] FALSE  FALSE     FALSE              FALSE FALSE              FALSE     \n",
              "[35,] FALSE  FALSE     FALSE              FALSE FALSE              FALSE     \n",
              "[36,] FALSE  FALSE     FALSE              FALSE FALSE              FALSE     \n",
              "[37,] FALSE  FALSE     FALSE              FALSE FALSE              FALSE     \n",
              "[38,] FALSE  FALSE     FALSE              FALSE FALSE              FALSE     \n",
              "[39,] FALSE  FALSE     FALSE              FALSE FALSE              FALSE     \n",
              "[40,] FALSE  FALSE     FALSE              FALSE FALSE              FALSE     \n",
              "[41,] FALSE  FALSE     FALSE              FALSE FALSE              FALSE     \n",
              "[42,] FALSE  FALSE     FALSE              FALSE FALSE              FALSE     \n",
              "[43,] FALSE  FALSE     FALSE              FALSE FALSE              FALSE     \n",
              "[44,] FALSE  FALSE     FALSE              FALSE FALSE              FALSE     \n",
              "[45,] FALSE  FALSE     FALSE              FALSE FALSE              FALSE     \n",
              "[46,] FALSE  FALSE     FALSE              FALSE FALSE              FALSE     \n",
              "[47,] FALSE  FALSE     FALSE              FALSE FALSE              FALSE     \n",
              "[48,] FALSE  FALSE     FALSE              FALSE FALSE              FALSE     \n",
              "[49,] FALSE  FALSE     FALSE              FALSE FALSE              FALSE     \n",
              "[50,] FALSE  FALSE     FALSE              FALSE FALSE              FALSE     \n",
              "[51,] FALSE  FALSE     FALSE              FALSE FALSE              FALSE     \n",
              "[52,] FALSE  FALSE     FALSE              FALSE FALSE              FALSE     \n",
              "[53,] FALSE  FALSE     FALSE              FALSE FALSE              FALSE     \n",
              "[54,] FALSE  FALSE     FALSE              FALSE FALSE              FALSE     \n",
              "[55,] FALSE  FALSE     FALSE              FALSE FALSE              FALSE     \n",
              "[56,] FALSE  FALSE     FALSE              FALSE FALSE              FALSE     \n",
              "[57,] FALSE  FALSE     FALSE              FALSE FALSE              FALSE     \n",
              "[58,] FALSE  FALSE     FALSE              FALSE FALSE              FALSE     \n",
              "[59,] FALSE  FALSE     FALSE              FALSE FALSE              FALSE     \n",
              "[60,] FALSE  FALSE     FALSE              FALSE FALSE              FALSE     \n",
              "[61,] FALSE  FALSE     FALSE              FALSE FALSE              FALSE     \n",
              "      reading_score writing_score\n",
              " [1,] FALSE         FALSE        \n",
              " [2,] FALSE         FALSE        \n",
              " [3,] FALSE         FALSE        \n",
              " [4,] FALSE         FALSE        \n",
              " [5,] FALSE         FALSE        \n",
              " [6,] FALSE         FALSE        \n",
              " [7,] FALSE         FALSE        \n",
              " [8,] FALSE         FALSE        \n",
              " [9,] FALSE         FALSE        \n",
              "[10,] FALSE         FALSE        \n",
              "[11,] FALSE         FALSE        \n",
              "[12,] FALSE         FALSE        \n",
              "[13,] FALSE         FALSE        \n",
              "[14,] FALSE         FALSE        \n",
              "[15,] FALSE         FALSE        \n",
              "[16,] FALSE         FALSE        \n",
              "[17,] FALSE         FALSE        \n",
              "[18,] FALSE         FALSE        \n",
              "[19,] FALSE         FALSE        \n",
              "[20,] FALSE         FALSE        \n",
              "[21,] FALSE         FALSE        \n",
              "[22,] FALSE         FALSE        \n",
              "[23,] FALSE         FALSE        \n",
              "[24,] FALSE         FALSE        \n",
              "[25,] FALSE         FALSE        \n",
              "[26,] FALSE         FALSE        \n",
              "[27,] FALSE         FALSE        \n",
              "[28,] FALSE         FALSE        \n",
              "[29,] FALSE         FALSE        \n",
              "[30,] FALSE         FALSE        \n",
              "[31,] ⋮             ⋮            \n",
              "[32,] FALSE         FALSE        \n",
              "[33,] FALSE         FALSE        \n",
              "[34,] FALSE         FALSE        \n",
              "[35,] FALSE         FALSE        \n",
              "[36,] FALSE         FALSE        \n",
              "[37,] FALSE         FALSE        \n",
              "[38,] FALSE         FALSE        \n",
              "[39,] FALSE         FALSE        \n",
              "[40,] FALSE         FALSE        \n",
              "[41,] FALSE         FALSE        \n",
              "[42,] FALSE         FALSE        \n",
              "[43,] FALSE         FALSE        \n",
              "[44,] FALSE         FALSE        \n",
              "[45,] FALSE         FALSE        \n",
              "[46,] FALSE         FALSE        \n",
              "[47,] FALSE         FALSE        \n",
              "[48,] FALSE         FALSE        \n",
              "[49,] FALSE         FALSE        \n",
              "[50,] FALSE         FALSE        \n",
              "[51,] FALSE         FALSE        \n",
              "[52,] FALSE         FALSE        \n",
              "[53,] FALSE         FALSE        \n",
              "[54,] FALSE         FALSE        \n",
              "[55,] FALSE         FALSE        \n",
              "[56,] FALSE         FALSE        \n",
              "[57,] FALSE         FALSE        \n",
              "[58,] FALSE         FALSE        \n",
              "[59,] FALSE         FALSE        \n",
              "[60,] FALSE         FALSE        \n",
              "[61,] FALSE         FALSE        "
            ],
            "text/latex": "A matrix: 1000 × 8 of type lgl\n\\begin{tabular}{llllllll}\n gender & ethnicity & parental\\_education & lunch & preparation\\_course & math\\_score & reading\\_score & writing\\_score\\\\\n\\hline\n\t FALSE & FALSE & FALSE & FALSE & FALSE & FALSE & FALSE & FALSE\\\\\n\t FALSE & FALSE & FALSE & FALSE & FALSE & FALSE & FALSE & FALSE\\\\\n\t FALSE & FALSE & FALSE & FALSE & FALSE & FALSE & FALSE & FALSE\\\\\n\t FALSE & FALSE & FALSE & FALSE & FALSE & FALSE & FALSE & FALSE\\\\\n\t FALSE & FALSE & FALSE & FALSE & FALSE & FALSE & FALSE & FALSE\\\\\n\t FALSE & FALSE & FALSE & FALSE & FALSE & FALSE & FALSE & FALSE\\\\\n\t FALSE & FALSE & FALSE & FALSE & FALSE & FALSE & FALSE & FALSE\\\\\n\t FALSE & FALSE & FALSE & FALSE & FALSE & FALSE & FALSE & FALSE\\\\\n\t FALSE & FALSE & FALSE & FALSE & FALSE & FALSE & FALSE & FALSE\\\\\n\t FALSE & FALSE & FALSE & FALSE & FALSE & FALSE & FALSE & FALSE\\\\\n\t FALSE & FALSE & FALSE & FALSE & FALSE & FALSE & FALSE & FALSE\\\\\n\t FALSE & FALSE & FALSE & FALSE & FALSE & FALSE & FALSE & FALSE\\\\\n\t FALSE & FALSE & FALSE & FALSE & FALSE & FALSE & FALSE & FALSE\\\\\n\t FALSE & FALSE & FALSE & FALSE & FALSE & FALSE & FALSE & FALSE\\\\\n\t FALSE & FALSE & FALSE & FALSE & FALSE & FALSE & FALSE & FALSE\\\\\n\t FALSE & FALSE & FALSE & FALSE & FALSE & FALSE & FALSE & FALSE\\\\\n\t FALSE & FALSE & FALSE & FALSE & FALSE & FALSE & FALSE & FALSE\\\\\n\t FALSE & FALSE & FALSE & FALSE & FALSE & FALSE & FALSE & FALSE\\\\\n\t FALSE & FALSE & FALSE & FALSE & FALSE & FALSE & FALSE & FALSE\\\\\n\t FALSE & FALSE & FALSE & FALSE & FALSE & FALSE & FALSE & FALSE\\\\\n\t FALSE & FALSE & FALSE & FALSE & FALSE & FALSE & FALSE & FALSE\\\\\n\t FALSE & FALSE & FALSE & FALSE & FALSE & FALSE & FALSE & FALSE\\\\\n\t FALSE & FALSE & FALSE & FALSE & FALSE & FALSE & FALSE & FALSE\\\\\n\t FALSE & FALSE & FALSE & FALSE & FALSE & FALSE & FALSE & FALSE\\\\\n\t FALSE & FALSE & FALSE & FALSE & FALSE & FALSE & FALSE & FALSE\\\\\n\t FALSE & FALSE & FALSE & FALSE & FALSE & FALSE & FALSE & FALSE\\\\\n\t FALSE & FALSE & FALSE & FALSE & FALSE & FALSE & FALSE & FALSE\\\\\n\t FALSE & FALSE & FALSE & FALSE & FALSE & FALSE & FALSE & FALSE\\\\\n\t FALSE & FALSE & FALSE & FALSE & FALSE & FALSE & FALSE & FALSE\\\\\n\t FALSE & FALSE & FALSE & FALSE & FALSE & FALSE & FALSE & FALSE\\\\\n\t ⋮ & ⋮ & ⋮ & ⋮ & ⋮ & ⋮ & ⋮ & ⋮\\\\\n\t FALSE & FALSE & FALSE & FALSE & FALSE & FALSE & FALSE & FALSE\\\\\n\t FALSE & FALSE & FALSE & FALSE & FALSE & FALSE & FALSE & FALSE\\\\\n\t FALSE & FALSE & FALSE & FALSE & FALSE & FALSE & FALSE & FALSE\\\\\n\t FALSE & FALSE & FALSE & FALSE & FALSE & FALSE & FALSE & FALSE\\\\\n\t FALSE & FALSE & FALSE & FALSE & FALSE & FALSE & FALSE & FALSE\\\\\n\t FALSE & FALSE & FALSE & FALSE & FALSE & FALSE & FALSE & FALSE\\\\\n\t FALSE & FALSE & FALSE & FALSE & FALSE & FALSE & FALSE & FALSE\\\\\n\t FALSE & FALSE & FALSE & FALSE & FALSE & FALSE & FALSE & FALSE\\\\\n\t FALSE & FALSE & FALSE & FALSE & FALSE & FALSE & FALSE & FALSE\\\\\n\t FALSE & FALSE & FALSE & FALSE & FALSE & FALSE & FALSE & FALSE\\\\\n\t FALSE & FALSE & FALSE & FALSE & FALSE & FALSE & FALSE & FALSE\\\\\n\t FALSE & FALSE & FALSE & FALSE & FALSE & FALSE & FALSE & FALSE\\\\\n\t FALSE & FALSE & FALSE & FALSE & FALSE & FALSE & FALSE & FALSE\\\\\n\t FALSE & FALSE & FALSE & FALSE & FALSE & FALSE & FALSE & FALSE\\\\\n\t FALSE & FALSE & FALSE & FALSE & FALSE & FALSE & FALSE & FALSE\\\\\n\t FALSE & FALSE & FALSE & FALSE & FALSE & FALSE & FALSE & FALSE\\\\\n\t FALSE & FALSE & FALSE & FALSE & FALSE & FALSE & FALSE & FALSE\\\\\n\t FALSE & FALSE & FALSE & FALSE & FALSE & FALSE & FALSE & FALSE\\\\\n\t FALSE & FALSE & FALSE & FALSE & FALSE & FALSE & FALSE & FALSE\\\\\n\t FALSE & FALSE & FALSE & FALSE & FALSE & FALSE & FALSE & FALSE\\\\\n\t FALSE & FALSE & FALSE & FALSE & FALSE & FALSE & FALSE & FALSE\\\\\n\t FALSE & FALSE & FALSE & FALSE & FALSE & FALSE & FALSE & FALSE\\\\\n\t FALSE & FALSE & FALSE & FALSE & FALSE & FALSE & FALSE & FALSE\\\\\n\t FALSE & FALSE & FALSE & FALSE & FALSE & FALSE & FALSE & FALSE\\\\\n\t FALSE & FALSE & FALSE & FALSE & FALSE & FALSE & FALSE & FALSE\\\\\n\t FALSE & FALSE & FALSE & FALSE & FALSE & FALSE & FALSE & FALSE\\\\\n\t FALSE & FALSE & FALSE & FALSE & FALSE & FALSE & FALSE & FALSE\\\\\n\t FALSE & FALSE & FALSE & FALSE & FALSE & FALSE & FALSE & FALSE\\\\\n\t FALSE & FALSE & FALSE & FALSE & FALSE & FALSE & FALSE & FALSE\\\\\n\t FALSE & FALSE & FALSE & FALSE & FALSE & FALSE & FALSE & FALSE\\\\\n\\end{tabular}\n",
            "text/markdown": "\nA matrix: 1000 × 8 of type lgl\n\n| gender | ethnicity | parental_education | lunch | preparation_course | math_score | reading_score | writing_score |\n|---|---|---|---|---|---|---|---|\n| FALSE | FALSE | FALSE | FALSE | FALSE | FALSE | FALSE | FALSE |\n| FALSE | FALSE | FALSE | FALSE | FALSE | FALSE | FALSE | FALSE |\n| FALSE | FALSE | FALSE | FALSE | FALSE | FALSE | FALSE | FALSE |\n| FALSE | FALSE | FALSE | FALSE | FALSE | FALSE | FALSE | FALSE |\n| FALSE | FALSE | FALSE | FALSE | FALSE | FALSE | FALSE | FALSE |\n| FALSE | FALSE | FALSE | FALSE | FALSE | FALSE | FALSE | FALSE |\n| FALSE | FALSE | FALSE | FALSE | FALSE | FALSE | FALSE | FALSE |\n| FALSE | FALSE | FALSE | FALSE | FALSE | FALSE | FALSE | FALSE |\n| FALSE | FALSE | FALSE | FALSE | FALSE | FALSE | FALSE | FALSE |\n| FALSE | FALSE | FALSE | FALSE | FALSE | FALSE | FALSE | FALSE |\n| FALSE | FALSE | FALSE | FALSE | FALSE | FALSE | FALSE | FALSE |\n| FALSE | FALSE | FALSE | FALSE | FALSE | FALSE | FALSE | FALSE |\n| FALSE | FALSE | FALSE | FALSE | FALSE | FALSE | FALSE | FALSE |\n| FALSE | FALSE | FALSE | FALSE | FALSE | FALSE | FALSE | FALSE |\n| FALSE | FALSE | FALSE | FALSE | FALSE | FALSE | FALSE | FALSE |\n| FALSE | FALSE | FALSE | FALSE | FALSE | FALSE | FALSE | FALSE |\n| FALSE | FALSE | FALSE | FALSE | FALSE | FALSE | FALSE | FALSE |\n| FALSE | FALSE | FALSE | FALSE | FALSE | FALSE | FALSE | FALSE |\n| FALSE | FALSE | FALSE | FALSE | FALSE | FALSE | FALSE | FALSE |\n| FALSE | FALSE | FALSE | FALSE | FALSE | FALSE | FALSE | FALSE |\n| FALSE | FALSE | FALSE | FALSE | FALSE | FALSE | FALSE | FALSE |\n| FALSE | FALSE | FALSE | FALSE | FALSE | FALSE | FALSE | FALSE |\n| FALSE | FALSE | FALSE | FALSE | FALSE | FALSE | FALSE | FALSE |\n| FALSE | FALSE | FALSE | FALSE | FALSE | FALSE | FALSE | FALSE |\n| FALSE | FALSE | FALSE | FALSE | FALSE | FALSE | FALSE | FALSE |\n| FALSE | FALSE | FALSE | FALSE | FALSE | FALSE | FALSE | FALSE |\n| FALSE | FALSE | FALSE | FALSE | FALSE | FALSE | FALSE | FALSE |\n| FALSE | FALSE | FALSE | FALSE | FALSE | FALSE | FALSE | FALSE |\n| FALSE | FALSE | FALSE | FALSE | FALSE | FALSE | FALSE | FALSE |\n| FALSE | FALSE | FALSE | FALSE | FALSE | FALSE | FALSE | FALSE |\n| ⋮ | ⋮ | ⋮ | ⋮ | ⋮ | ⋮ | ⋮ | ⋮ |\n| FALSE | FALSE | FALSE | FALSE | FALSE | FALSE | FALSE | FALSE |\n| FALSE | FALSE | FALSE | FALSE | FALSE | FALSE | FALSE | FALSE |\n| FALSE | FALSE | FALSE | FALSE | FALSE | FALSE | FALSE | FALSE |\n| FALSE | FALSE | FALSE | FALSE | FALSE | FALSE | FALSE | FALSE |\n| FALSE | FALSE | FALSE | FALSE | FALSE | FALSE | FALSE | FALSE |\n| FALSE | FALSE | FALSE | FALSE | FALSE | FALSE | FALSE | FALSE |\n| FALSE | FALSE | FALSE | FALSE | FALSE | FALSE | FALSE | FALSE |\n| FALSE | FALSE | FALSE | FALSE | FALSE | FALSE | FALSE | FALSE |\n| FALSE | FALSE | FALSE | FALSE | FALSE | FALSE | FALSE | FALSE |\n| FALSE | FALSE | FALSE | FALSE | FALSE | FALSE | FALSE | FALSE |\n| FALSE | FALSE | FALSE | FALSE | FALSE | FALSE | FALSE | FALSE |\n| FALSE | FALSE | FALSE | FALSE | FALSE | FALSE | FALSE | FALSE |\n| FALSE | FALSE | FALSE | FALSE | FALSE | FALSE | FALSE | FALSE |\n| FALSE | FALSE | FALSE | FALSE | FALSE | FALSE | FALSE | FALSE |\n| FALSE | FALSE | FALSE | FALSE | FALSE | FALSE | FALSE | FALSE |\n| FALSE | FALSE | FALSE | FALSE | FALSE | FALSE | FALSE | FALSE |\n| FALSE | FALSE | FALSE | FALSE | FALSE | FALSE | FALSE | FALSE |\n| FALSE | FALSE | FALSE | FALSE | FALSE | FALSE | FALSE | FALSE |\n| FALSE | FALSE | FALSE | FALSE | FALSE | FALSE | FALSE | FALSE |\n| FALSE | FALSE | FALSE | FALSE | FALSE | FALSE | FALSE | FALSE |\n| FALSE | FALSE | FALSE | FALSE | FALSE | FALSE | FALSE | FALSE |\n| FALSE | FALSE | FALSE | FALSE | FALSE | FALSE | FALSE | FALSE |\n| FALSE | FALSE | FALSE | FALSE | FALSE | FALSE | FALSE | FALSE |\n| FALSE | FALSE | FALSE | FALSE | FALSE | FALSE | FALSE | FALSE |\n| FALSE | FALSE | FALSE | FALSE | FALSE | FALSE | FALSE | FALSE |\n| FALSE | FALSE | FALSE | FALSE | FALSE | FALSE | FALSE | FALSE |\n| FALSE | FALSE | FALSE | FALSE | FALSE | FALSE | FALSE | FALSE |\n| FALSE | FALSE | FALSE | FALSE | FALSE | FALSE | FALSE | FALSE |\n| FALSE | FALSE | FALSE | FALSE | FALSE | FALSE | FALSE | FALSE |\n| FALSE | FALSE | FALSE | FALSE | FALSE | FALSE | FALSE | FALSE |\n\n",
            "text/html": [
              "<table class=\"dataframe\">\n",
              "<caption>A matrix: 1000 × 8 of type lgl</caption>\n",
              "<thead>\n",
              "\t<tr><th scope=col>gender</th><th scope=col>ethnicity</th><th scope=col>parental_education</th><th scope=col>lunch</th><th scope=col>preparation_course</th><th scope=col>math_score</th><th scope=col>reading_score</th><th scope=col>writing_score</th></tr>\n",
              "</thead>\n",
              "<tbody>\n",
              "\t<tr><td>FALSE</td><td>FALSE</td><td>FALSE</td><td>FALSE</td><td>FALSE</td><td>FALSE</td><td>FALSE</td><td>FALSE</td></tr>\n",
              "\t<tr><td>FALSE</td><td>FALSE</td><td>FALSE</td><td>FALSE</td><td>FALSE</td><td>FALSE</td><td>FALSE</td><td>FALSE</td></tr>\n",
              "\t<tr><td>FALSE</td><td>FALSE</td><td>FALSE</td><td>FALSE</td><td>FALSE</td><td>FALSE</td><td>FALSE</td><td>FALSE</td></tr>\n",
              "\t<tr><td>FALSE</td><td>FALSE</td><td>FALSE</td><td>FALSE</td><td>FALSE</td><td>FALSE</td><td>FALSE</td><td>FALSE</td></tr>\n",
              "\t<tr><td>FALSE</td><td>FALSE</td><td>FALSE</td><td>FALSE</td><td>FALSE</td><td>FALSE</td><td>FALSE</td><td>FALSE</td></tr>\n",
              "\t<tr><td>FALSE</td><td>FALSE</td><td>FALSE</td><td>FALSE</td><td>FALSE</td><td>FALSE</td><td>FALSE</td><td>FALSE</td></tr>\n",
              "\t<tr><td>FALSE</td><td>FALSE</td><td>FALSE</td><td>FALSE</td><td>FALSE</td><td>FALSE</td><td>FALSE</td><td>FALSE</td></tr>\n",
              "\t<tr><td>FALSE</td><td>FALSE</td><td>FALSE</td><td>FALSE</td><td>FALSE</td><td>FALSE</td><td>FALSE</td><td>FALSE</td></tr>\n",
              "\t<tr><td>FALSE</td><td>FALSE</td><td>FALSE</td><td>FALSE</td><td>FALSE</td><td>FALSE</td><td>FALSE</td><td>FALSE</td></tr>\n",
              "\t<tr><td>FALSE</td><td>FALSE</td><td>FALSE</td><td>FALSE</td><td>FALSE</td><td>FALSE</td><td>FALSE</td><td>FALSE</td></tr>\n",
              "\t<tr><td>FALSE</td><td>FALSE</td><td>FALSE</td><td>FALSE</td><td>FALSE</td><td>FALSE</td><td>FALSE</td><td>FALSE</td></tr>\n",
              "\t<tr><td>FALSE</td><td>FALSE</td><td>FALSE</td><td>FALSE</td><td>FALSE</td><td>FALSE</td><td>FALSE</td><td>FALSE</td></tr>\n",
              "\t<tr><td>FALSE</td><td>FALSE</td><td>FALSE</td><td>FALSE</td><td>FALSE</td><td>FALSE</td><td>FALSE</td><td>FALSE</td></tr>\n",
              "\t<tr><td>FALSE</td><td>FALSE</td><td>FALSE</td><td>FALSE</td><td>FALSE</td><td>FALSE</td><td>FALSE</td><td>FALSE</td></tr>\n",
              "\t<tr><td>FALSE</td><td>FALSE</td><td>FALSE</td><td>FALSE</td><td>FALSE</td><td>FALSE</td><td>FALSE</td><td>FALSE</td></tr>\n",
              "\t<tr><td>FALSE</td><td>FALSE</td><td>FALSE</td><td>FALSE</td><td>FALSE</td><td>FALSE</td><td>FALSE</td><td>FALSE</td></tr>\n",
              "\t<tr><td>FALSE</td><td>FALSE</td><td>FALSE</td><td>FALSE</td><td>FALSE</td><td>FALSE</td><td>FALSE</td><td>FALSE</td></tr>\n",
              "\t<tr><td>FALSE</td><td>FALSE</td><td>FALSE</td><td>FALSE</td><td>FALSE</td><td>FALSE</td><td>FALSE</td><td>FALSE</td></tr>\n",
              "\t<tr><td>FALSE</td><td>FALSE</td><td>FALSE</td><td>FALSE</td><td>FALSE</td><td>FALSE</td><td>FALSE</td><td>FALSE</td></tr>\n",
              "\t<tr><td>FALSE</td><td>FALSE</td><td>FALSE</td><td>FALSE</td><td>FALSE</td><td>FALSE</td><td>FALSE</td><td>FALSE</td></tr>\n",
              "\t<tr><td>FALSE</td><td>FALSE</td><td>FALSE</td><td>FALSE</td><td>FALSE</td><td>FALSE</td><td>FALSE</td><td>FALSE</td></tr>\n",
              "\t<tr><td>FALSE</td><td>FALSE</td><td>FALSE</td><td>FALSE</td><td>FALSE</td><td>FALSE</td><td>FALSE</td><td>FALSE</td></tr>\n",
              "\t<tr><td>FALSE</td><td>FALSE</td><td>FALSE</td><td>FALSE</td><td>FALSE</td><td>FALSE</td><td>FALSE</td><td>FALSE</td></tr>\n",
              "\t<tr><td>FALSE</td><td>FALSE</td><td>FALSE</td><td>FALSE</td><td>FALSE</td><td>FALSE</td><td>FALSE</td><td>FALSE</td></tr>\n",
              "\t<tr><td>FALSE</td><td>FALSE</td><td>FALSE</td><td>FALSE</td><td>FALSE</td><td>FALSE</td><td>FALSE</td><td>FALSE</td></tr>\n",
              "\t<tr><td>FALSE</td><td>FALSE</td><td>FALSE</td><td>FALSE</td><td>FALSE</td><td>FALSE</td><td>FALSE</td><td>FALSE</td></tr>\n",
              "\t<tr><td>FALSE</td><td>FALSE</td><td>FALSE</td><td>FALSE</td><td>FALSE</td><td>FALSE</td><td>FALSE</td><td>FALSE</td></tr>\n",
              "\t<tr><td>FALSE</td><td>FALSE</td><td>FALSE</td><td>FALSE</td><td>FALSE</td><td>FALSE</td><td>FALSE</td><td>FALSE</td></tr>\n",
              "\t<tr><td>FALSE</td><td>FALSE</td><td>FALSE</td><td>FALSE</td><td>FALSE</td><td>FALSE</td><td>FALSE</td><td>FALSE</td></tr>\n",
              "\t<tr><td>FALSE</td><td>FALSE</td><td>FALSE</td><td>FALSE</td><td>FALSE</td><td>FALSE</td><td>FALSE</td><td>FALSE</td></tr>\n",
              "\t<tr><td>⋮</td><td>⋮</td><td>⋮</td><td>⋮</td><td>⋮</td><td>⋮</td><td>⋮</td><td>⋮</td></tr>\n",
              "\t<tr><td>FALSE</td><td>FALSE</td><td>FALSE</td><td>FALSE</td><td>FALSE</td><td>FALSE</td><td>FALSE</td><td>FALSE</td></tr>\n",
              "\t<tr><td>FALSE</td><td>FALSE</td><td>FALSE</td><td>FALSE</td><td>FALSE</td><td>FALSE</td><td>FALSE</td><td>FALSE</td></tr>\n",
              "\t<tr><td>FALSE</td><td>FALSE</td><td>FALSE</td><td>FALSE</td><td>FALSE</td><td>FALSE</td><td>FALSE</td><td>FALSE</td></tr>\n",
              "\t<tr><td>FALSE</td><td>FALSE</td><td>FALSE</td><td>FALSE</td><td>FALSE</td><td>FALSE</td><td>FALSE</td><td>FALSE</td></tr>\n",
              "\t<tr><td>FALSE</td><td>FALSE</td><td>FALSE</td><td>FALSE</td><td>FALSE</td><td>FALSE</td><td>FALSE</td><td>FALSE</td></tr>\n",
              "\t<tr><td>FALSE</td><td>FALSE</td><td>FALSE</td><td>FALSE</td><td>FALSE</td><td>FALSE</td><td>FALSE</td><td>FALSE</td></tr>\n",
              "\t<tr><td>FALSE</td><td>FALSE</td><td>FALSE</td><td>FALSE</td><td>FALSE</td><td>FALSE</td><td>FALSE</td><td>FALSE</td></tr>\n",
              "\t<tr><td>FALSE</td><td>FALSE</td><td>FALSE</td><td>FALSE</td><td>FALSE</td><td>FALSE</td><td>FALSE</td><td>FALSE</td></tr>\n",
              "\t<tr><td>FALSE</td><td>FALSE</td><td>FALSE</td><td>FALSE</td><td>FALSE</td><td>FALSE</td><td>FALSE</td><td>FALSE</td></tr>\n",
              "\t<tr><td>FALSE</td><td>FALSE</td><td>FALSE</td><td>FALSE</td><td>FALSE</td><td>FALSE</td><td>FALSE</td><td>FALSE</td></tr>\n",
              "\t<tr><td>FALSE</td><td>FALSE</td><td>FALSE</td><td>FALSE</td><td>FALSE</td><td>FALSE</td><td>FALSE</td><td>FALSE</td></tr>\n",
              "\t<tr><td>FALSE</td><td>FALSE</td><td>FALSE</td><td>FALSE</td><td>FALSE</td><td>FALSE</td><td>FALSE</td><td>FALSE</td></tr>\n",
              "\t<tr><td>FALSE</td><td>FALSE</td><td>FALSE</td><td>FALSE</td><td>FALSE</td><td>FALSE</td><td>FALSE</td><td>FALSE</td></tr>\n",
              "\t<tr><td>FALSE</td><td>FALSE</td><td>FALSE</td><td>FALSE</td><td>FALSE</td><td>FALSE</td><td>FALSE</td><td>FALSE</td></tr>\n",
              "\t<tr><td>FALSE</td><td>FALSE</td><td>FALSE</td><td>FALSE</td><td>FALSE</td><td>FALSE</td><td>FALSE</td><td>FALSE</td></tr>\n",
              "\t<tr><td>FALSE</td><td>FALSE</td><td>FALSE</td><td>FALSE</td><td>FALSE</td><td>FALSE</td><td>FALSE</td><td>FALSE</td></tr>\n",
              "\t<tr><td>FALSE</td><td>FALSE</td><td>FALSE</td><td>FALSE</td><td>FALSE</td><td>FALSE</td><td>FALSE</td><td>FALSE</td></tr>\n",
              "\t<tr><td>FALSE</td><td>FALSE</td><td>FALSE</td><td>FALSE</td><td>FALSE</td><td>FALSE</td><td>FALSE</td><td>FALSE</td></tr>\n",
              "\t<tr><td>FALSE</td><td>FALSE</td><td>FALSE</td><td>FALSE</td><td>FALSE</td><td>FALSE</td><td>FALSE</td><td>FALSE</td></tr>\n",
              "\t<tr><td>FALSE</td><td>FALSE</td><td>FALSE</td><td>FALSE</td><td>FALSE</td><td>FALSE</td><td>FALSE</td><td>FALSE</td></tr>\n",
              "\t<tr><td>FALSE</td><td>FALSE</td><td>FALSE</td><td>FALSE</td><td>FALSE</td><td>FALSE</td><td>FALSE</td><td>FALSE</td></tr>\n",
              "\t<tr><td>FALSE</td><td>FALSE</td><td>FALSE</td><td>FALSE</td><td>FALSE</td><td>FALSE</td><td>FALSE</td><td>FALSE</td></tr>\n",
              "\t<tr><td>FALSE</td><td>FALSE</td><td>FALSE</td><td>FALSE</td><td>FALSE</td><td>FALSE</td><td>FALSE</td><td>FALSE</td></tr>\n",
              "\t<tr><td>FALSE</td><td>FALSE</td><td>FALSE</td><td>FALSE</td><td>FALSE</td><td>FALSE</td><td>FALSE</td><td>FALSE</td></tr>\n",
              "\t<tr><td>FALSE</td><td>FALSE</td><td>FALSE</td><td>FALSE</td><td>FALSE</td><td>FALSE</td><td>FALSE</td><td>FALSE</td></tr>\n",
              "\t<tr><td>FALSE</td><td>FALSE</td><td>FALSE</td><td>FALSE</td><td>FALSE</td><td>FALSE</td><td>FALSE</td><td>FALSE</td></tr>\n",
              "\t<tr><td>FALSE</td><td>FALSE</td><td>FALSE</td><td>FALSE</td><td>FALSE</td><td>FALSE</td><td>FALSE</td><td>FALSE</td></tr>\n",
              "\t<tr><td>FALSE</td><td>FALSE</td><td>FALSE</td><td>FALSE</td><td>FALSE</td><td>FALSE</td><td>FALSE</td><td>FALSE</td></tr>\n",
              "\t<tr><td>FALSE</td><td>FALSE</td><td>FALSE</td><td>FALSE</td><td>FALSE</td><td>FALSE</td><td>FALSE</td><td>FALSE</td></tr>\n",
              "\t<tr><td>FALSE</td><td>FALSE</td><td>FALSE</td><td>FALSE</td><td>FALSE</td><td>FALSE</td><td>FALSE</td><td>FALSE</td></tr>\n",
              "</tbody>\n",
              "</table>\n"
            ]
          },
          "metadata": {
            "tags": []
          }
        }
      ]
    },
    {
      "cell_type": "markdown",
      "metadata": {
        "id": "2062c520"
      },
      "source": [
        "### Visualise data distribution ### \n",
        "---\n",
        "\n",
        "In statistics, when you are preparing data for analysis, you must first check if your data is Gaussian or not (normally distributed). \n",
        "\n",
        "If data is normally distributed, it will have a bell curve and the spread of the data will tend to be small, with the mean centred in the data.\n",
        "\n",
        "The types of statistical test that are meaningful for the data depend on whether or not your data is normally distributed. \n",
        "\n",
        "To check for normality, lets first look at a histogram: \n",
        "\n",
        "**Using the ggplot2 package (similar to pythons Matplotlib):**\n",
        "\n",
        "```qplot(data$column, geom=\"histogram\") ```\n",
        "\n",
        "In R, `$` is used to specify the dataframe and target column so `data$age` would tell R to look at the age column - in Python pandas this would be ```df['age'] ```\n",
        "\n",
        "### Exercise 4 ###\n",
        "---\n",
        "\n",
        "Create histograms to check the distribution of each numeric column in your data (writing_score, reading_score, math_score)"
      ],
      "id": "2062c520"
    },
    {
      "cell_type": "code",
      "metadata": {
        "id": "55e6c624",
        "outputId": "4aa96118-272a-40d2-a15f-06640a4ccbbc",
        "colab": {
          "base_uri": "https://localhost:8080/",
          "height": 1000
        }
      },
      "source": [
        "qplot(performance$math_score, geom=\"histogram\")\n",
        "qplot(performance$writing_score, geom=\"histogram\")\n",
        "qplot(performance$reading_score, geom=\"histogram\")"
      ],
      "id": "55e6c624",
      "execution_count": 14,
      "outputs": [
        {
          "output_type": "stream",
          "text": [
            "`stat_bin()` using `bins = 30`. Pick better value with `binwidth`.\n",
            "\n",
            "`stat_bin()` using `bins = 30`. Pick better value with `binwidth`.\n",
            "\n"
          ],
          "name": "stderr"
        },
        {
          "output_type": "display_data",
          "data": {
            "image/png": "[encoded data removed]",
            "text/plain": [
              "plot without title"
            ]
          },
          "metadata": {
            "tags": [],
            "image/png": {
              "width": 420,
              "height": 420
            }
          }
        },
        {
          "output_type": "stream",
          "text": [
            "`stat_bin()` using `bins = 30`. Pick better value with `binwidth`.\n",
            "\n"
          ],
          "name": "stderr"
        },
        {
          "output_type": "display_data",
          "data": {
            "image/png": "[encoded data removed]",
            "text/plain": [
              "plot without title"
            ]
          },
          "metadata": {
            "tags": [],
            "image/png": {
              "width": 420,
              "height": 420
            }
          }
        },
        {
          "output_type": "display_data",
          "data": {
            "image/png": "[encoded data removed]",
            "text/plain": [
              "plot without title"
            ]
          },
          "metadata": {
            "tags": [],
            "image/png": {
              "width": 420,
              "height": 420
            }
          }
        }
      ]
    },
    {
      "cell_type": "markdown",
      "metadata": {
        "id": "a6345893"
      },
      "source": [
        "## What about data that isn't numeric?\n",
        "---\n",
        "\n",
        "A linear regression is essentially a mathematical formula, which finds 2 terms (the slope and intercept) and can use that to predict new values. \n",
        "\n",
        "Obviously you cannot do any calculations on words (such as male or female). Therefore, we need to 'dummy code' categorical values such as sex.\n",
        "\n",
        "When R does the mathematical equation for the regression, we do not want the new dummy codes to interfere with the calculation, to get around that, we code the data using 0 and 1. \n",
        "\n",
        "**There are many ways to dummy code your data, but to make things easy we are going to use a package!**\n",
        "\n",
        "``` df_dummy <- dummy_cols(data, select_columns = c('column1', 'column2', 'column3'), remove_first_dummy = TRUE, remove_selected_columns = TRUE) ```\n",
        "\n",
        "The above code sets the new dataframe in a variable called `df_dummy`, it then states which dataframe we mean, then in the brackets, you put the column names that you want dummy coded. \n",
        "\n",
        "```remove_selected_columns = TRUE``` tells R to delete the existing categorical data columns afterwards\n",
        "\n",
        "```remove_first_dummy = TRUE``` tells R to remove the first dummy column. dummy_cols will create one column for each categorical value in the original column (so the sex columns becomes 2 columns called sex_female and sex_male) So removing the first column would leave the column sex__male,  where 1 means male and 0 means female. This is important as it stops multicollinearity in your model (your variables being too related to each other messing up the results). \n",
        "\n",
        "### Exercise 5 ###\n",
        "---\n",
        "\n",
        "Dummy code the catergorical columns, removing the first dummy and the original columns. "
      ],
      "id": "a6345893"
    },
    {
      "cell_type": "code",
      "metadata": {
        "id": "3e7d7f63",
        "outputId": "daf35faf-aff1-467f-aefb-56409d422397",
        "colab": {
          "base_uri": "https://localhost:8080/",
          "height": 1000
        }
      },
      "source": [
        "performance_dummy <- dummy_cols(performance, select_columns = c('gender', 'preparation_course', 'lunch', 'ethnicity', 'parental_education'), remove_first_dummy = TRUE, remove_selected_columns = TRUE)\n",
        "performance_dummy"
      ],
      "id": "3e7d7f63",
      "execution_count": 21,
      "outputs": [
        {
          "output_type": "display_data",
          "data": {
            "text/plain": [
              "     math_score reading_score writing_score gender_male preparation_course_none\n",
              "1    65         76            71            0           1                      \n",
              "2    75         72            69            1           0                      \n",
              "3    62         56            61            0           0                      \n",
              "4    60         60            59            1           0                      \n",
              "5    34         54            55            0           0                      \n",
              "6    53         66            61            0           1                      \n",
              "7    85         88            92            0           1                      \n",
              "8    93         73            70            1           1                      \n",
              "9    58         71            63            0           0                      \n",
              "10   85         75            82            1           0                      \n",
              "11   83         94            92            0           1                      \n",
              "12   54         69            70            0           1                      \n",
              "13   38         36            42            0           1                      \n",
              "14   90         81            81            1           1                      \n",
              "15   38         57            52            0           1                      \n",
              "16   61         64            62            0           1                      \n",
              "17   55         71            73            0           0                      \n",
              "18   58         60            56            1           0                      \n",
              "19   44         54            49            0           1                      \n",
              "20   71         79            82            0           0                      \n",
              "21   77         79            72            1           1                      \n",
              "22   39         35            33            0           1                      \n",
              "23   71         85            81            0           0                      \n",
              "24   78         82            86            0           1                      \n",
              "25   74         63            65            1           1                      \n",
              "26   56         60            56            1           1                      \n",
              "27   68         64            65            1           0                      \n",
              "28   48         39            43            1           1                      \n",
              "29   90         92            84            0           1                      \n",
              "30   82         80            83            0           0                      \n",
              "⋮    ⋮          ⋮             ⋮             ⋮           ⋮                      \n",
              "971   64        75            70            0           1                      \n",
              "972   63        75            71            0           1                      \n",
              "973   60        52            47            1           1                      \n",
              "974   62        84            87            0           0                      \n",
              "975   75        71            73            1           1                      \n",
              "976   56        50            42            1           1                      \n",
              "977   67        85            83            0           0                      \n",
              "978   83        68            67            1           1                      \n",
              "979   57        50            54            1           1                      \n",
              "980   65        58            55            1           1                      \n",
              "981   62        68            63            1           1                      \n",
              "982   76        58            56            1           1                      \n",
              "983   55        61            60            0           1                      \n",
              "984   62        52            53            1           1                      \n",
              "985  100        81            84            1           1                      \n",
              "986   89        91            83            1           0                      \n",
              "987   59        63            56            1           1                      \n",
              "988   75        77            75            1           0                      \n",
              "989   62        63            65            0           1                      \n",
              "990   67        81            82            0           0                      \n",
              "991   60        70            65            1           0                      \n",
              "992   68        77            77            0           1                      \n",
              "993   46        62            65            0           1                      \n",
              "994   79        78            69            1           1                      \n",
              "995   72        74            80            0           0                      \n",
              "996   80        73            74            1           0                      \n",
              "997   82        87            82            1           0                      \n",
              "998   65        94            93            0           0                      \n",
              "999   62        62            57            1           1                      \n",
              "1000  38        39            40            1           1                      \n",
              "     lunch_standard ethnicity_group B ethnicity_group C ethnicity_group D\n",
              "1    0              0                 0                 0                \n",
              "2    1              0                 1                 0                \n",
              "3    0              1                 0                 0                \n",
              "4    1              0                 0                 1                \n",
              "5    0              0                 1                 0                \n",
              "6    0              1                 0                 0                \n",
              "7    1              0                 0                 1                \n",
              "8    1              0                 0                 0                \n",
              "9    1              0                 1                 0                \n",
              "10   1              0                 1                 0                \n",
              "11   1              0                 0                 1                \n",
              "12   0              0                 0                 1                \n",
              "13   0              0                 0                 1                \n",
              "14   1              0                 1                 0                \n",
              "15   0              0                 0                 0                \n",
              "16   0              0                 0                 0                \n",
              "17   0              0                 0                 1                \n",
              "18   0              0                 0                 0                \n",
              "19   0              1                 0                 0                \n",
              "20   1              0                 0                 0                \n",
              "21   0              0                 0                 0                \n",
              "22   1              0                 1                 0                \n",
              "23   0              0                 0                 0                \n",
              "24   1              0                 1                 0                \n",
              "25   0              1                 0                 0                \n",
              "26   1              0                 0                 1                \n",
              "27   0              0                 1                 0                \n",
              "28   1              1                 0                 0                \n",
              "29   1              0                 0                 0                \n",
              "30   1              1                 0                 0                \n",
              "⋮    ⋮              ⋮                 ⋮                 ⋮                \n",
              "971  1              0                 0                 1                \n",
              "972  0              0                 0                 1                \n",
              "973  0              1                 0                 0                \n",
              "974  0              0                 1                 0                \n",
              "975  0              0                 0                 0                \n",
              "976  0              0                 0                 1                \n",
              "977  1              0                 1                 0                \n",
              "978  1              0                 1                 0                \n",
              "979  0              0                 0                 1                \n",
              "980  0              0                 0                 1                \n",
              "981  0              0                 1                 0                \n",
              "982  1              0                 1                 0                \n",
              "983  1              1                 0                 0                \n",
              "984  1              1                 0                 0                \n",
              "985  1              0                 0                 0                \n",
              "986  1              0                 1                 0                \n",
              "987  0              0                 1                 0                \n",
              "988  0              0                 0                 1                \n",
              "989  0              0                 1                 0                \n",
              "990  1              0                 0                 1                \n",
              "991  0              1                 0                 0                \n",
              "992  1              0                 1                 0                \n",
              "993  0              0                 1                 0                \n",
              "994  1              0                 0                 0                \n",
              "995  1              0                 0                 1                \n",
              "996  1              1                 0                 0                \n",
              "997  1              0                 0                 1                \n",
              "998  1              0                 1                 0                \n",
              "999  0              1                 0                 0                \n",
              "1000 1              1                 0                 0                \n",
              "     ethnicity_group E parental_education_bachelor's degree\n",
              "1    1                 0                                   \n",
              "2    0                 0                                   \n",
              "3    0                 0                                   \n",
              "4    0                 0                                   \n",
              "5    0                 0                                   \n",
              "6    0                 0                                   \n",
              "7    0                 0                                   \n",
              "8    1                 0                                   \n",
              "9    0                 0                                   \n",
              "10   0                 0                                   \n",
              "11   0                 0                                   \n",
              "12   0                 0                                   \n",
              "13   0                 0                                   \n",
              "14   0                 0                                   \n",
              "15   0                 0                                   \n",
              "16   1                 0                                   \n",
              "17   0                 0                                   \n",
              "18   0                 0                                   \n",
              "19   0                 0                                   \n",
              "20   1                 0                                   \n",
              "21   1                 0                                   \n",
              "22   0                 0                                   \n",
              "23   0                 0                                   \n",
              "24   0                 0                                   \n",
              "25   0                 0                                   \n",
              "26   0                 0                                   \n",
              "27   0                 0                                   \n",
              "28   0                 0                                   \n",
              "29   1                 0                                   \n",
              "30   0                 0                                   \n",
              "⋮    ⋮                 ⋮                                   \n",
              "971  0                 0                                   \n",
              "972  0                 0                                   \n",
              "973  0                 1                                   \n",
              "974  0                 0                                   \n",
              "975  0                 0                                   \n",
              "976  0                 0                                   \n",
              "977  0                 0                                   \n",
              "978  0                 0                                   \n",
              "979  0                 0                                   \n",
              "980  0                 0                                   \n",
              "981  0                 0                                   \n",
              "982  0                 0                                   \n",
              "983  0                 0                                   \n",
              "984  0                 0                                   \n",
              "985  1                 0                                   \n",
              "986  0                 0                                   \n",
              "987  0                 0                                   \n",
              "988  0                 0                                   \n",
              "989  0                 0                                   \n",
              "990  0                 0                                   \n",
              "991  0                 0                                   \n",
              "992  0                 0                                   \n",
              "993  0                 0                                   \n",
              "994  1                 0                                   \n",
              "995  0                 0                                   \n",
              "996  0                 0                                   \n",
              "997  0                 0                                   \n",
              "998  0                 0                                   \n",
              "999  0                 0                                   \n",
              "1000 0                 0                                   \n",
              "     parental_education_high school parental_education_master's degree\n",
              "1    0                              0                                 \n",
              "2    0                              0                                 \n",
              "3    0                              0                                 \n",
              "4    0                              0                                 \n",
              "5    1                              0                                 \n",
              "6    0                              0                                 \n",
              "7    0                              0                                 \n",
              "8    0                              0                                 \n",
              "9    0                              0                                 \n",
              "10   0                              0                                 \n",
              "11   0                              1                                 \n",
              "12   0                              0                                 \n",
              "13   0                              0                                 \n",
              "14   0                              0                                 \n",
              "15   0                              0                                 \n",
              "16   0                              0                                 \n",
              "17   0                              0                                 \n",
              "18   0                              1                                 \n",
              "19   0                              0                                 \n",
              "20   0                              0                                 \n",
              "21   0                              0                                 \n",
              "22   1                              0                                 \n",
              "23   1                              0                                 \n",
              "24   0                              0                                 \n",
              "25   0                              1                                 \n",
              "26   1                              0                                 \n",
              "27   0                              0                                 \n",
              "28   0                              0                                 \n",
              "29   0                              0                                 \n",
              "30   0                              0                                 \n",
              "⋮    ⋮                              ⋮                                 \n",
              "971  0                              0                                 \n",
              "972  0                              0                                 \n",
              "973  0                              0                                 \n",
              "974  0                              0                                 \n",
              "975  0                              0                                 \n",
              "976  0                              0                                 \n",
              "977  1                              0                                 \n",
              "978  0                              0                                 \n",
              "979  0                              1                                 \n",
              "980  1                              0                                 \n",
              "981  0                              0                                 \n",
              "982  1                              0                                 \n",
              "983  0                              0                                 \n",
              "984  0                              0                                 \n",
              "985  0                              0                                 \n",
              "986  0                              0                                 \n",
              "987  1                              0                                 \n",
              "988  1                              0                                 \n",
              "989  1                              0                                 \n",
              "990  0                              0                                 \n",
              "991  1                              0                                 \n",
              "992  0                              0                                 \n",
              "993  0                              0                                 \n",
              "994  1                              0                                 \n",
              "995  0                              0                                 \n",
              "996  0                              0                                 \n",
              "997  1                              0                                 \n",
              "998  0                              0                                 \n",
              "999  0                              1                                 \n",
              "1000 0                              0                                 \n",
              "     parental_education_some college parental_education_some high school\n",
              "1    1                               0                                  \n",
              "2    1                               0                                  \n",
              "3    0                               1                                  \n",
              "4    0                               1                                  \n",
              "5    0                               0                                  \n",
              "6    1                               0                                  \n",
              "7    1                               0                                  \n",
              "8    0                               1                                  \n",
              "9    0                               0                                  \n",
              "10   0                               0                                  \n",
              "11   0                               0                                  \n",
              "12   0                               0                                  \n",
              "13   0                               1                                  \n",
              "14   1                               0                                  \n",
              "15   0                               1                                  \n",
              "16   0                               0                                  \n",
              "17   0                               1                                  \n",
              "18   0                               0                                  \n",
              "19   1                               0                                  \n",
              "20   1                               0                                  \n",
              "21   0                               0                                  \n",
              "22   0                               0                                  \n",
              "23   0                               0                                  \n",
              "24   1                               0                                  \n",
              "25   0                               0                                  \n",
              "26   0                               0                                  \n",
              "27   0                               0                                  \n",
              "28   0                               0                                  \n",
              "29   0                               1                                  \n",
              "30   0                               1                                  \n",
              "⋮    ⋮                               ⋮                                  \n",
              "971  0                               0                                  \n",
              "972  0                               1                                  \n",
              "973  0                               0                                  \n",
              "974  0                               0                                  \n",
              "975  0                               1                                  \n",
              "976  0                               0                                  \n",
              "977  0                               0                                  \n",
              "978  0                               1                                  \n",
              "979  0                               0                                  \n",
              "980  0                               0                                  \n",
              "981  1                               0                                  \n",
              "982  0                               0                                  \n",
              "983  0                               1                                  \n",
              "984  1                               0                                  \n",
              "985  1                               0                                  \n",
              "986  0                               1                                  \n",
              "987  0                               0                                  \n",
              "988  0                               0                                  \n",
              "989  0                               0                                  \n",
              "990  0                               0                                  \n",
              "991  0                               0                                  \n",
              "992  1                               0                                  \n",
              "993  1                               0                                  \n",
              "994  0                               0                                  \n",
              "995  0                               0                                  \n",
              "996  1                               0                                  \n",
              "997  0                               0                                  \n",
              "998  0                               0                                  \n",
              "999  0                               0                                  \n",
              "1000 1                               0                                  "
            ],
            "text/latex": "A data.frame: 1000 × 15\n\\begin{tabular}{lllllllllllllll}\n math\\_score & reading\\_score & writing\\_score & gender\\_male & preparation\\_course\\_none & lunch\\_standard & ethnicity\\_group B & ethnicity\\_group C & ethnicity\\_group D & ethnicity\\_group E & parental\\_education\\_bachelor's degree & parental\\_education\\_high school & parental\\_education\\_master's degree & parental\\_education\\_some college & parental\\_education\\_some high school\\\\\n <int> & <int> & <int> & <int> & <int> & <int> & <int> & <int> & <int> & <int> & <int> & <int> & <int> & <int> & <int>\\\\\n\\hline\n\t 65 & 76 & 71 & 0 & 1 & 0 & 0 & 0 & 0 & 1 & 0 & 0 & 0 & 1 & 0\\\\\n\t 75 & 72 & 69 & 1 & 0 & 1 & 0 & 1 & 0 & 0 & 0 & 0 & 0 & 1 & 0\\\\\n\t 62 & 56 & 61 & 0 & 0 & 0 & 1 & 0 & 0 & 0 & 0 & 0 & 0 & 0 & 1\\\\\n\t 60 & 60 & 59 & 1 & 0 & 1 & 0 & 0 & 1 & 0 & 0 & 0 & 0 & 0 & 1\\\\\n\t 34 & 54 & 55 & 0 & 0 & 0 & 0 & 1 & 0 & 0 & 0 & 1 & 0 & 0 & 0\\\\\n\t 53 & 66 & 61 & 0 & 1 & 0 & 1 & 0 & 0 & 0 & 0 & 0 & 0 & 1 & 0\\\\\n\t 85 & 88 & 92 & 0 & 1 & 1 & 0 & 0 & 1 & 0 & 0 & 0 & 0 & 1 & 0\\\\\n\t 93 & 73 & 70 & 1 & 1 & 1 & 0 & 0 & 0 & 1 & 0 & 0 & 0 & 0 & 1\\\\\n\t 58 & 71 & 63 & 0 & 0 & 1 & 0 & 1 & 0 & 0 & 0 & 0 & 0 & 0 & 0\\\\\n\t 85 & 75 & 82 & 1 & 0 & 1 & 0 & 1 & 0 & 0 & 0 & 0 & 0 & 0 & 0\\\\\n\t 83 & 94 & 92 & 0 & 1 & 1 & 0 & 0 & 1 & 0 & 0 & 0 & 1 & 0 & 0\\\\\n\t 54 & 69 & 70 & 0 & 1 & 0 & 0 & 0 & 1 & 0 & 0 & 0 & 0 & 0 & 0\\\\\n\t 38 & 36 & 42 & 0 & 1 & 0 & 0 & 0 & 1 & 0 & 0 & 0 & 0 & 0 & 1\\\\\n\t 90 & 81 & 81 & 1 & 1 & 1 & 0 & 1 & 0 & 0 & 0 & 0 & 0 & 1 & 0\\\\\n\t 38 & 57 & 52 & 0 & 1 & 0 & 0 & 0 & 0 & 0 & 0 & 0 & 0 & 0 & 1\\\\\n\t 61 & 64 & 62 & 0 & 1 & 0 & 0 & 0 & 0 & 1 & 0 & 0 & 0 & 0 & 0\\\\\n\t 55 & 71 & 73 & 0 & 0 & 0 & 0 & 0 & 1 & 0 & 0 & 0 & 0 & 0 & 1\\\\\n\t 58 & 60 & 56 & 1 & 0 & 0 & 0 & 0 & 0 & 0 & 0 & 0 & 1 & 0 & 0\\\\\n\t 44 & 54 & 49 & 0 & 1 & 0 & 1 & 0 & 0 & 0 & 0 & 0 & 0 & 1 & 0\\\\\n\t 71 & 79 & 82 & 0 & 0 & 1 & 0 & 0 & 0 & 1 & 0 & 0 & 0 & 1 & 0\\\\\n\t 77 & 79 & 72 & 1 & 1 & 0 & 0 & 0 & 0 & 1 & 0 & 0 & 0 & 0 & 0\\\\\n\t 39 & 35 & 33 & 0 & 1 & 1 & 0 & 1 & 0 & 0 & 0 & 1 & 0 & 0 & 0\\\\\n\t 71 & 85 & 81 & 0 & 0 & 0 & 0 & 0 & 0 & 0 & 0 & 1 & 0 & 0 & 0\\\\\n\t 78 & 82 & 86 & 0 & 1 & 1 & 0 & 1 & 0 & 0 & 0 & 0 & 0 & 1 & 0\\\\\n\t 74 & 63 & 65 & 1 & 1 & 0 & 1 & 0 & 0 & 0 & 0 & 0 & 1 & 0 & 0\\\\\n\t 56 & 60 & 56 & 1 & 1 & 1 & 0 & 0 & 1 & 0 & 0 & 1 & 0 & 0 & 0\\\\\n\t 68 & 64 & 65 & 1 & 0 & 0 & 0 & 1 & 0 & 0 & 0 & 0 & 0 & 0 & 0\\\\\n\t 48 & 39 & 43 & 1 & 1 & 1 & 1 & 0 & 0 & 0 & 0 & 0 & 0 & 0 & 0\\\\\n\t 90 & 92 & 84 & 0 & 1 & 1 & 0 & 0 & 0 & 1 & 0 & 0 & 0 & 0 & 1\\\\\n\t 82 & 80 & 83 & 0 & 0 & 1 & 1 & 0 & 0 & 0 & 0 & 0 & 0 & 0 & 1\\\\\n\t ⋮ & ⋮ & ⋮ & ⋮ & ⋮ & ⋮ & ⋮ & ⋮ & ⋮ & ⋮ & ⋮ & ⋮ & ⋮ & ⋮ & ⋮\\\\\n\t  64 & 75 & 70 & 0 & 1 & 1 & 0 & 0 & 1 & 0 & 0 & 0 & 0 & 0 & 0\\\\\n\t  63 & 75 & 71 & 0 & 1 & 0 & 0 & 0 & 1 & 0 & 0 & 0 & 0 & 0 & 1\\\\\n\t  60 & 52 & 47 & 1 & 1 & 0 & 1 & 0 & 0 & 0 & 1 & 0 & 0 & 0 & 0\\\\\n\t  62 & 84 & 87 & 0 & 0 & 0 & 0 & 1 & 0 & 0 & 0 & 0 & 0 & 0 & 0\\\\\n\t  75 & 71 & 73 & 1 & 1 & 0 & 0 & 0 & 0 & 0 & 0 & 0 & 0 & 0 & 1\\\\\n\t  56 & 50 & 42 & 1 & 1 & 0 & 0 & 0 & 1 & 0 & 0 & 0 & 0 & 0 & 0\\\\\n\t  67 & 85 & 83 & 0 & 0 & 1 & 0 & 1 & 0 & 0 & 0 & 1 & 0 & 0 & 0\\\\\n\t  83 & 68 & 67 & 1 & 1 & 1 & 0 & 1 & 0 & 0 & 0 & 0 & 0 & 0 & 1\\\\\n\t  57 & 50 & 54 & 1 & 1 & 0 & 0 & 0 & 1 & 0 & 0 & 0 & 1 & 0 & 0\\\\\n\t  65 & 58 & 55 & 1 & 1 & 0 & 0 & 0 & 1 & 0 & 0 & 1 & 0 & 0 & 0\\\\\n\t  62 & 68 & 63 & 1 & 1 & 0 & 0 & 1 & 0 & 0 & 0 & 0 & 0 & 1 & 0\\\\\n\t  76 & 58 & 56 & 1 & 1 & 1 & 0 & 1 & 0 & 0 & 0 & 1 & 0 & 0 & 0\\\\\n\t  55 & 61 & 60 & 0 & 1 & 1 & 1 & 0 & 0 & 0 & 0 & 0 & 0 & 0 & 1\\\\\n\t  62 & 52 & 53 & 1 & 1 & 1 & 1 & 0 & 0 & 0 & 0 & 0 & 0 & 1 & 0\\\\\n\t 100 & 81 & 84 & 1 & 1 & 1 & 0 & 0 & 0 & 1 & 0 & 0 & 0 & 1 & 0\\\\\n\t  89 & 91 & 83 & 1 & 0 & 1 & 0 & 1 & 0 & 0 & 0 & 0 & 0 & 0 & 1\\\\\n\t  59 & 63 & 56 & 1 & 1 & 0 & 0 & 1 & 0 & 0 & 0 & 1 & 0 & 0 & 0\\\\\n\t  75 & 77 & 75 & 1 & 0 & 0 & 0 & 0 & 1 & 0 & 0 & 1 & 0 & 0 & 0\\\\\n\t  62 & 63 & 65 & 0 & 1 & 0 & 0 & 1 & 0 & 0 & 0 & 1 & 0 & 0 & 0\\\\\n\t  67 & 81 & 82 & 0 & 0 & 1 & 0 & 0 & 1 & 0 & 0 & 0 & 0 & 0 & 0\\\\\n\t  60 & 70 & 65 & 1 & 0 & 0 & 1 & 0 & 0 & 0 & 0 & 1 & 0 & 0 & 0\\\\\n\t  68 & 77 & 77 & 0 & 1 & 1 & 0 & 1 & 0 & 0 & 0 & 0 & 0 & 1 & 0\\\\\n\t  46 & 62 & 65 & 0 & 1 & 0 & 0 & 1 & 0 & 0 & 0 & 0 & 0 & 1 & 0\\\\\n\t  79 & 78 & 69 & 1 & 1 & 1 & 0 & 0 & 0 & 1 & 0 & 1 & 0 & 0 & 0\\\\\n\t  72 & 74 & 80 & 0 & 0 & 1 & 0 & 0 & 1 & 0 & 0 & 0 & 0 & 0 & 0\\\\\n\t  80 & 73 & 74 & 1 & 0 & 1 & 1 & 0 & 0 & 0 & 0 & 0 & 0 & 1 & 0\\\\\n\t  82 & 87 & 82 & 1 & 0 & 1 & 0 & 0 & 1 & 0 & 0 & 1 & 0 & 0 & 0\\\\\n\t  65 & 94 & 93 & 0 & 0 & 1 & 0 & 1 & 0 & 0 & 0 & 0 & 0 & 0 & 0\\\\\n\t  62 & 62 & 57 & 1 & 1 & 0 & 1 & 0 & 0 & 0 & 0 & 0 & 1 & 0 & 0\\\\\n\t  38 & 39 & 40 & 1 & 1 & 1 & 1 & 0 & 0 & 0 & 0 & 0 & 0 & 1 & 0\\\\\n\\end{tabular}\n",
            "text/markdown": "\nA data.frame: 1000 × 15\n\n| math_score &lt;int&gt; | reading_score &lt;int&gt; | writing_score &lt;int&gt; | gender_male &lt;int&gt; | preparation_course_none &lt;int&gt; | lunch_standard &lt;int&gt; | ethnicity_group B &lt;int&gt; | ethnicity_group C &lt;int&gt; | ethnicity_group D &lt;int&gt; | ethnicity_group E &lt;int&gt; | parental_education_bachelor's degree &lt;int&gt; | parental_education_high school &lt;int&gt; | parental_education_master's degree &lt;int&gt; | parental_education_some college &lt;int&gt; | parental_education_some high school &lt;int&gt; |\n|---|---|---|---|---|---|---|---|---|---|---|---|---|---|---|\n| 65 | 76 | 71 | 0 | 1 | 0 | 0 | 0 | 0 | 1 | 0 | 0 | 0 | 1 | 0 |\n| 75 | 72 | 69 | 1 | 0 | 1 | 0 | 1 | 0 | 0 | 0 | 0 | 0 | 1 | 0 |\n| 62 | 56 | 61 | 0 | 0 | 0 | 1 | 0 | 0 | 0 | 0 | 0 | 0 | 0 | 1 |\n| 60 | 60 | 59 | 1 | 0 | 1 | 0 | 0 | 1 | 0 | 0 | 0 | 0 | 0 | 1 |\n| 34 | 54 | 55 | 0 | 0 | 0 | 0 | 1 | 0 | 0 | 0 | 1 | 0 | 0 | 0 |\n| 53 | 66 | 61 | 0 | 1 | 0 | 1 | 0 | 0 | 0 | 0 | 0 | 0 | 1 | 0 |\n| 85 | 88 | 92 | 0 | 1 | 1 | 0 | 0 | 1 | 0 | 0 | 0 | 0 | 1 | 0 |\n| 93 | 73 | 70 | 1 | 1 | 1 | 0 | 0 | 0 | 1 | 0 | 0 | 0 | 0 | 1 |\n| 58 | 71 | 63 | 0 | 0 | 1 | 0 | 1 | 0 | 0 | 0 | 0 | 0 | 0 | 0 |\n| 85 | 75 | 82 | 1 | 0 | 1 | 0 | 1 | 0 | 0 | 0 | 0 | 0 | 0 | 0 |\n| 83 | 94 | 92 | 0 | 1 | 1 | 0 | 0 | 1 | 0 | 0 | 0 | 1 | 0 | 0 |\n| 54 | 69 | 70 | 0 | 1 | 0 | 0 | 0 | 1 | 0 | 0 | 0 | 0 | 0 | 0 |\n| 38 | 36 | 42 | 0 | 1 | 0 | 0 | 0 | 1 | 0 | 0 | 0 | 0 | 0 | 1 |\n| 90 | 81 | 81 | 1 | 1 | 1 | 0 | 1 | 0 | 0 | 0 | 0 | 0 | 1 | 0 |\n| 38 | 57 | 52 | 0 | 1 | 0 | 0 | 0 | 0 | 0 | 0 | 0 | 0 | 0 | 1 |\n| 61 | 64 | 62 | 0 | 1 | 0 | 0 | 0 | 0 | 1 | 0 | 0 | 0 | 0 | 0 |\n| 55 | 71 | 73 | 0 | 0 | 0 | 0 | 0 | 1 | 0 | 0 | 0 | 0 | 0 | 1 |\n| 58 | 60 | 56 | 1 | 0 | 0 | 0 | 0 | 0 | 0 | 0 | 0 | 1 | 0 | 0 |\n| 44 | 54 | 49 | 0 | 1 | 0 | 1 | 0 | 0 | 0 | 0 | 0 | 0 | 1 | 0 |\n| 71 | 79 | 82 | 0 | 0 | 1 | 0 | 0 | 0 | 1 | 0 | 0 | 0 | 1 | 0 |\n| 77 | 79 | 72 | 1 | 1 | 0 | 0 | 0 | 0 | 1 | 0 | 0 | 0 | 0 | 0 |\n| 39 | 35 | 33 | 0 | 1 | 1 | 0 | 1 | 0 | 0 | 0 | 1 | 0 | 0 | 0 |\n| 71 | 85 | 81 | 0 | 0 | 0 | 0 | 0 | 0 | 0 | 0 | 1 | 0 | 0 | 0 |\n| 78 | 82 | 86 | 0 | 1 | 1 | 0 | 1 | 0 | 0 | 0 | 0 | 0 | 1 | 0 |\n| 74 | 63 | 65 | 1 | 1 | 0 | 1 | 0 | 0 | 0 | 0 | 0 | 1 | 0 | 0 |\n| 56 | 60 | 56 | 1 | 1 | 1 | 0 | 0 | 1 | 0 | 0 | 1 | 0 | 0 | 0 |\n| 68 | 64 | 65 | 1 | 0 | 0 | 0 | 1 | 0 | 0 | 0 | 0 | 0 | 0 | 0 |\n| 48 | 39 | 43 | 1 | 1 | 1 | 1 | 0 | 0 | 0 | 0 | 0 | 0 | 0 | 0 |\n| 90 | 92 | 84 | 0 | 1 | 1 | 0 | 0 | 0 | 1 | 0 | 0 | 0 | 0 | 1 |\n| 82 | 80 | 83 | 0 | 0 | 1 | 1 | 0 | 0 | 0 | 0 | 0 | 0 | 0 | 1 |\n| ⋮ | ⋮ | ⋮ | ⋮ | ⋮ | ⋮ | ⋮ | ⋮ | ⋮ | ⋮ | ⋮ | ⋮ | ⋮ | ⋮ | ⋮ |\n|  64 | 75 | 70 | 0 | 1 | 1 | 0 | 0 | 1 | 0 | 0 | 0 | 0 | 0 | 0 |\n|  63 | 75 | 71 | 0 | 1 | 0 | 0 | 0 | 1 | 0 | 0 | 0 | 0 | 0 | 1 |\n|  60 | 52 | 47 | 1 | 1 | 0 | 1 | 0 | 0 | 0 | 1 | 0 | 0 | 0 | 0 |\n|  62 | 84 | 87 | 0 | 0 | 0 | 0 | 1 | 0 | 0 | 0 | 0 | 0 | 0 | 0 |\n|  75 | 71 | 73 | 1 | 1 | 0 | 0 | 0 | 0 | 0 | 0 | 0 | 0 | 0 | 1 |\n|  56 | 50 | 42 | 1 | 1 | 0 | 0 | 0 | 1 | 0 | 0 | 0 | 0 | 0 | 0 |\n|  67 | 85 | 83 | 0 | 0 | 1 | 0 | 1 | 0 | 0 | 0 | 1 | 0 | 0 | 0 |\n|  83 | 68 | 67 | 1 | 1 | 1 | 0 | 1 | 0 | 0 | 0 | 0 | 0 | 0 | 1 |\n|  57 | 50 | 54 | 1 | 1 | 0 | 0 | 0 | 1 | 0 | 0 | 0 | 1 | 0 | 0 |\n|  65 | 58 | 55 | 1 | 1 | 0 | 0 | 0 | 1 | 0 | 0 | 1 | 0 | 0 | 0 |\n|  62 | 68 | 63 | 1 | 1 | 0 | 0 | 1 | 0 | 0 | 0 | 0 | 0 | 1 | 0 |\n|  76 | 58 | 56 | 1 | 1 | 1 | 0 | 1 | 0 | 0 | 0 | 1 | 0 | 0 | 0 |\n|  55 | 61 | 60 | 0 | 1 | 1 | 1 | 0 | 0 | 0 | 0 | 0 | 0 | 0 | 1 |\n|  62 | 52 | 53 | 1 | 1 | 1 | 1 | 0 | 0 | 0 | 0 | 0 | 0 | 1 | 0 |\n| 100 | 81 | 84 | 1 | 1 | 1 | 0 | 0 | 0 | 1 | 0 | 0 | 0 | 1 | 0 |\n|  89 | 91 | 83 | 1 | 0 | 1 | 0 | 1 | 0 | 0 | 0 | 0 | 0 | 0 | 1 |\n|  59 | 63 | 56 | 1 | 1 | 0 | 0 | 1 | 0 | 0 | 0 | 1 | 0 | 0 | 0 |\n|  75 | 77 | 75 | 1 | 0 | 0 | 0 | 0 | 1 | 0 | 0 | 1 | 0 | 0 | 0 |\n|  62 | 63 | 65 | 0 | 1 | 0 | 0 | 1 | 0 | 0 | 0 | 1 | 0 | 0 | 0 |\n|  67 | 81 | 82 | 0 | 0 | 1 | 0 | 0 | 1 | 0 | 0 | 0 | 0 | 0 | 0 |\n|  60 | 70 | 65 | 1 | 0 | 0 | 1 | 0 | 0 | 0 | 0 | 1 | 0 | 0 | 0 |\n|  68 | 77 | 77 | 0 | 1 | 1 | 0 | 1 | 0 | 0 | 0 | 0 | 0 | 1 | 0 |\n|  46 | 62 | 65 | 0 | 1 | 0 | 0 | 1 | 0 | 0 | 0 | 0 | 0 | 1 | 0 |\n|  79 | 78 | 69 | 1 | 1 | 1 | 0 | 0 | 0 | 1 | 0 | 1 | 0 | 0 | 0 |\n|  72 | 74 | 80 | 0 | 0 | 1 | 0 | 0 | 1 | 0 | 0 | 0 | 0 | 0 | 0 |\n|  80 | 73 | 74 | 1 | 0 | 1 | 1 | 0 | 0 | 0 | 0 | 0 | 0 | 1 | 0 |\n|  82 | 87 | 82 | 1 | 0 | 1 | 0 | 0 | 1 | 0 | 0 | 1 | 0 | 0 | 0 |\n|  65 | 94 | 93 | 0 | 0 | 1 | 0 | 1 | 0 | 0 | 0 | 0 | 0 | 0 | 0 |\n|  62 | 62 | 57 | 1 | 1 | 0 | 1 | 0 | 0 | 0 | 0 | 0 | 1 | 0 | 0 |\n|  38 | 39 | 40 | 1 | 1 | 1 | 1 | 0 | 0 | 0 | 0 | 0 | 0 | 1 | 0 |\n\n",
            "text/html": [
              "<table class=\"dataframe\">\n",
              "<caption>A data.frame: 1000 × 15</caption>\n",
              "<thead>\n",
              "\t<tr><th scope=col>math_score</th><th scope=col>reading_score</th><th scope=col>writing_score</th><th scope=col>gender_male</th><th scope=col>preparation_course_none</th><th scope=col>lunch_standard</th><th scope=col>ethnicity_group B</th><th scope=col>ethnicity_group C</th><th scope=col>ethnicity_group D</th><th scope=col>ethnicity_group E</th><th scope=col>parental_education_bachelor's degree</th><th scope=col>parental_education_high school</th><th scope=col>parental_education_master's degree</th><th scope=col>parental_education_some college</th><th scope=col>parental_education_some high school</th></tr>\n",
              "\t<tr><th scope=col>&lt;int&gt;</th><th scope=col>&lt;int&gt;</th><th scope=col>&lt;int&gt;</th><th scope=col>&lt;int&gt;</th><th scope=col>&lt;int&gt;</th><th scope=col>&lt;int&gt;</th><th scope=col>&lt;int&gt;</th><th scope=col>&lt;int&gt;</th><th scope=col>&lt;int&gt;</th><th scope=col>&lt;int&gt;</th><th scope=col>&lt;int&gt;</th><th scope=col>&lt;int&gt;</th><th scope=col>&lt;int&gt;</th><th scope=col>&lt;int&gt;</th><th scope=col>&lt;int&gt;</th></tr>\n",
              "</thead>\n",
              "<tbody>\n",
              "\t<tr><td>65</td><td>76</td><td>71</td><td>0</td><td>1</td><td>0</td><td>0</td><td>0</td><td>0</td><td>1</td><td>0</td><td>0</td><td>0</td><td>1</td><td>0</td></tr>\n",
              "\t<tr><td>75</td><td>72</td><td>69</td><td>1</td><td>0</td><td>1</td><td>0</td><td>1</td><td>0</td><td>0</td><td>0</td><td>0</td><td>0</td><td>1</td><td>0</td></tr>\n",
              "\t<tr><td>62</td><td>56</td><td>61</td><td>0</td><td>0</td><td>0</td><td>1</td><td>0</td><td>0</td><td>0</td><td>0</td><td>0</td><td>0</td><td>0</td><td>1</td></tr>\n",
              "\t<tr><td>60</td><td>60</td><td>59</td><td>1</td><td>0</td><td>1</td><td>0</td><td>0</td><td>1</td><td>0</td><td>0</td><td>0</td><td>0</td><td>0</td><td>1</td></tr>\n",
              "\t<tr><td>34</td><td>54</td><td>55</td><td>0</td><td>0</td><td>0</td><td>0</td><td>1</td><td>0</td><td>0</td><td>0</td><td>1</td><td>0</td><td>0</td><td>0</td></tr>\n",
              "\t<tr><td>53</td><td>66</td><td>61</td><td>0</td><td>1</td><td>0</td><td>1</td><td>0</td><td>0</td><td>0</td><td>0</td><td>0</td><td>0</td><td>1</td><td>0</td></tr>\n",
              "\t<tr><td>85</td><td>88</td><td>92</td><td>0</td><td>1</td><td>1</td><td>0</td><td>0</td><td>1</td><td>0</td><td>0</td><td>0</td><td>0</td><td>1</td><td>0</td></tr>\n",
              "\t<tr><td>93</td><td>73</td><td>70</td><td>1</td><td>1</td><td>1</td><td>0</td><td>0</td><td>0</td><td>1</td><td>0</td><td>0</td><td>0</td><td>0</td><td>1</td></tr>\n",
              "\t<tr><td>58</td><td>71</td><td>63</td><td>0</td><td>0</td><td>1</td><td>0</td><td>1</td><td>0</td><td>0</td><td>0</td><td>0</td><td>0</td><td>0</td><td>0</td></tr>\n",
              "\t<tr><td>85</td><td>75</td><td>82</td><td>1</td><td>0</td><td>1</td><td>0</td><td>1</td><td>0</td><td>0</td><td>0</td><td>0</td><td>0</td><td>0</td><td>0</td></tr>\n",
              "\t<tr><td>83</td><td>94</td><td>92</td><td>0</td><td>1</td><td>1</td><td>0</td><td>0</td><td>1</td><td>0</td><td>0</td><td>0</td><td>1</td><td>0</td><td>0</td></tr>\n",
              "\t<tr><td>54</td><td>69</td><td>70</td><td>0</td><td>1</td><td>0</td><td>0</td><td>0</td><td>1</td><td>0</td><td>0</td><td>0</td><td>0</td><td>0</td><td>0</td></tr>\n",
              "\t<tr><td>38</td><td>36</td><td>42</td><td>0</td><td>1</td><td>0</td><td>0</td><td>0</td><td>1</td><td>0</td><td>0</td><td>0</td><td>0</td><td>0</td><td>1</td></tr>\n",
              "\t<tr><td>90</td><td>81</td><td>81</td><td>1</td><td>1</td><td>1</td><td>0</td><td>1</td><td>0</td><td>0</td><td>0</td><td>0</td><td>0</td><td>1</td><td>0</td></tr>\n",
              "\t<tr><td>38</td><td>57</td><td>52</td><td>0</td><td>1</td><td>0</td><td>0</td><td>0</td><td>0</td><td>0</td><td>0</td><td>0</td><td>0</td><td>0</td><td>1</td></tr>\n",
              "\t<tr><td>61</td><td>64</td><td>62</td><td>0</td><td>1</td><td>0</td><td>0</td><td>0</td><td>0</td><td>1</td><td>0</td><td>0</td><td>0</td><td>0</td><td>0</td></tr>\n",
              "\t<tr><td>55</td><td>71</td><td>73</td><td>0</td><td>0</td><td>0</td><td>0</td><td>0</td><td>1</td><td>0</td><td>0</td><td>0</td><td>0</td><td>0</td><td>1</td></tr>\n",
              "\t<tr><td>58</td><td>60</td><td>56</td><td>1</td><td>0</td><td>0</td><td>0</td><td>0</td><td>0</td><td>0</td><td>0</td><td>0</td><td>1</td><td>0</td><td>0</td></tr>\n",
              "\t<tr><td>44</td><td>54</td><td>49</td><td>0</td><td>1</td><td>0</td><td>1</td><td>0</td><td>0</td><td>0</td><td>0</td><td>0</td><td>0</td><td>1</td><td>0</td></tr>\n",
              "\t<tr><td>71</td><td>79</td><td>82</td><td>0</td><td>0</td><td>1</td><td>0</td><td>0</td><td>0</td><td>1</td><td>0</td><td>0</td><td>0</td><td>1</td><td>0</td></tr>\n",
              "\t<tr><td>77</td><td>79</td><td>72</td><td>1</td><td>1</td><td>0</td><td>0</td><td>0</td><td>0</td><td>1</td><td>0</td><td>0</td><td>0</td><td>0</td><td>0</td></tr>\n",
              "\t<tr><td>39</td><td>35</td><td>33</td><td>0</td><td>1</td><td>1</td><td>0</td><td>1</td><td>0</td><td>0</td><td>0</td><td>1</td><td>0</td><td>0</td><td>0</td></tr>\n",
              "\t<tr><td>71</td><td>85</td><td>81</td><td>0</td><td>0</td><td>0</td><td>0</td><td>0</td><td>0</td><td>0</td><td>0</td><td>1</td><td>0</td><td>0</td><td>0</td></tr>\n",
              "\t<tr><td>78</td><td>82</td><td>86</td><td>0</td><td>1</td><td>1</td><td>0</td><td>1</td><td>0</td><td>0</td><td>0</td><td>0</td><td>0</td><td>1</td><td>0</td></tr>\n",
              "\t<tr><td>74</td><td>63</td><td>65</td><td>1</td><td>1</td><td>0</td><td>1</td><td>0</td><td>0</td><td>0</td><td>0</td><td>0</td><td>1</td><td>0</td><td>0</td></tr>\n",
              "\t<tr><td>56</td><td>60</td><td>56</td><td>1</td><td>1</td><td>1</td><td>0</td><td>0</td><td>1</td><td>0</td><td>0</td><td>1</td><td>0</td><td>0</td><td>0</td></tr>\n",
              "\t<tr><td>68</td><td>64</td><td>65</td><td>1</td><td>0</td><td>0</td><td>0</td><td>1</td><td>0</td><td>0</td><td>0</td><td>0</td><td>0</td><td>0</td><td>0</td></tr>\n",
              "\t<tr><td>48</td><td>39</td><td>43</td><td>1</td><td>1</td><td>1</td><td>1</td><td>0</td><td>0</td><td>0</td><td>0</td><td>0</td><td>0</td><td>0</td><td>0</td></tr>\n",
              "\t<tr><td>90</td><td>92</td><td>84</td><td>0</td><td>1</td><td>1</td><td>0</td><td>0</td><td>0</td><td>1</td><td>0</td><td>0</td><td>0</td><td>0</td><td>1</td></tr>\n",
              "\t<tr><td>82</td><td>80</td><td>83</td><td>0</td><td>0</td><td>1</td><td>1</td><td>0</td><td>0</td><td>0</td><td>0</td><td>0</td><td>0</td><td>0</td><td>1</td></tr>\n",
              "\t<tr><td>⋮</td><td>⋮</td><td>⋮</td><td>⋮</td><td>⋮</td><td>⋮</td><td>⋮</td><td>⋮</td><td>⋮</td><td>⋮</td><td>⋮</td><td>⋮</td><td>⋮</td><td>⋮</td><td>⋮</td></tr>\n",
              "\t<tr><td> 64</td><td>75</td><td>70</td><td>0</td><td>1</td><td>1</td><td>0</td><td>0</td><td>1</td><td>0</td><td>0</td><td>0</td><td>0</td><td>0</td><td>0</td></tr>\n",
              "\t<tr><td> 63</td><td>75</td><td>71</td><td>0</td><td>1</td><td>0</td><td>0</td><td>0</td><td>1</td><td>0</td><td>0</td><td>0</td><td>0</td><td>0</td><td>1</td></tr>\n",
              "\t<tr><td> 60</td><td>52</td><td>47</td><td>1</td><td>1</td><td>0</td><td>1</td><td>0</td><td>0</td><td>0</td><td>1</td><td>0</td><td>0</td><td>0</td><td>0</td></tr>\n",
              "\t<tr><td> 62</td><td>84</td><td>87</td><td>0</td><td>0</td><td>0</td><td>0</td><td>1</td><td>0</td><td>0</td><td>0</td><td>0</td><td>0</td><td>0</td><td>0</td></tr>\n",
              "\t<tr><td> 75</td><td>71</td><td>73</td><td>1</td><td>1</td><td>0</td><td>0</td><td>0</td><td>0</td><td>0</td><td>0</td><td>0</td><td>0</td><td>0</td><td>1</td></tr>\n",
              "\t<tr><td> 56</td><td>50</td><td>42</td><td>1</td><td>1</td><td>0</td><td>0</td><td>0</td><td>1</td><td>0</td><td>0</td><td>0</td><td>0</td><td>0</td><td>0</td></tr>\n",
              "\t<tr><td> 67</td><td>85</td><td>83</td><td>0</td><td>0</td><td>1</td><td>0</td><td>1</td><td>0</td><td>0</td><td>0</td><td>1</td><td>0</td><td>0</td><td>0</td></tr>\n",
              "\t<tr><td> 83</td><td>68</td><td>67</td><td>1</td><td>1</td><td>1</td><td>0</td><td>1</td><td>0</td><td>0</td><td>0</td><td>0</td><td>0</td><td>0</td><td>1</td></tr>\n",
              "\t<tr><td> 57</td><td>50</td><td>54</td><td>1</td><td>1</td><td>0</td><td>0</td><td>0</td><td>1</td><td>0</td><td>0</td><td>0</td><td>1</td><td>0</td><td>0</td></tr>\n",
              "\t<tr><td> 65</td><td>58</td><td>55</td><td>1</td><td>1</td><td>0</td><td>0</td><td>0</td><td>1</td><td>0</td><td>0</td><td>1</td><td>0</td><td>0</td><td>0</td></tr>\n",
              "\t<tr><td> 62</td><td>68</td><td>63</td><td>1</td><td>1</td><td>0</td><td>0</td><td>1</td><td>0</td><td>0</td><td>0</td><td>0</td><td>0</td><td>1</td><td>0</td></tr>\n",
              "\t<tr><td> 76</td><td>58</td><td>56</td><td>1</td><td>1</td><td>1</td><td>0</td><td>1</td><td>0</td><td>0</td><td>0</td><td>1</td><td>0</td><td>0</td><td>0</td></tr>\n",
              "\t<tr><td> 55</td><td>61</td><td>60</td><td>0</td><td>1</td><td>1</td><td>1</td><td>0</td><td>0</td><td>0</td><td>0</td><td>0</td><td>0</td><td>0</td><td>1</td></tr>\n",
              "\t<tr><td> 62</td><td>52</td><td>53</td><td>1</td><td>1</td><td>1</td><td>1</td><td>0</td><td>0</td><td>0</td><td>0</td><td>0</td><td>0</td><td>1</td><td>0</td></tr>\n",
              "\t<tr><td>100</td><td>81</td><td>84</td><td>1</td><td>1</td><td>1</td><td>0</td><td>0</td><td>0</td><td>1</td><td>0</td><td>0</td><td>0</td><td>1</td><td>0</td></tr>\n",
              "\t<tr><td> 89</td><td>91</td><td>83</td><td>1</td><td>0</td><td>1</td><td>0</td><td>1</td><td>0</td><td>0</td><td>0</td><td>0</td><td>0</td><td>0</td><td>1</td></tr>\n",
              "\t<tr><td> 59</td><td>63</td><td>56</td><td>1</td><td>1</td><td>0</td><td>0</td><td>1</td><td>0</td><td>0</td><td>0</td><td>1</td><td>0</td><td>0</td><td>0</td></tr>\n",
              "\t<tr><td> 75</td><td>77</td><td>75</td><td>1</td><td>0</td><td>0</td><td>0</td><td>0</td><td>1</td><td>0</td><td>0</td><td>1</td><td>0</td><td>0</td><td>0</td></tr>\n",
              "\t<tr><td> 62</td><td>63</td><td>65</td><td>0</td><td>1</td><td>0</td><td>0</td><td>1</td><td>0</td><td>0</td><td>0</td><td>1</td><td>0</td><td>0</td><td>0</td></tr>\n",
              "\t<tr><td> 67</td><td>81</td><td>82</td><td>0</td><td>0</td><td>1</td><td>0</td><td>0</td><td>1</td><td>0</td><td>0</td><td>0</td><td>0</td><td>0</td><td>0</td></tr>\n",
              "\t<tr><td> 60</td><td>70</td><td>65</td><td>1</td><td>0</td><td>0</td><td>1</td><td>0</td><td>0</td><td>0</td><td>0</td><td>1</td><td>0</td><td>0</td><td>0</td></tr>\n",
              "\t<tr><td> 68</td><td>77</td><td>77</td><td>0</td><td>1</td><td>1</td><td>0</td><td>1</td><td>0</td><td>0</td><td>0</td><td>0</td><td>0</td><td>1</td><td>0</td></tr>\n",
              "\t<tr><td> 46</td><td>62</td><td>65</td><td>0</td><td>1</td><td>0</td><td>0</td><td>1</td><td>0</td><td>0</td><td>0</td><td>0</td><td>0</td><td>1</td><td>0</td></tr>\n",
              "\t<tr><td> 79</td><td>78</td><td>69</td><td>1</td><td>1</td><td>1</td><td>0</td><td>0</td><td>0</td><td>1</td><td>0</td><td>1</td><td>0</td><td>0</td><td>0</td></tr>\n",
              "\t<tr><td> 72</td><td>74</td><td>80</td><td>0</td><td>0</td><td>1</td><td>0</td><td>0</td><td>1</td><td>0</td><td>0</td><td>0</td><td>0</td><td>0</td><td>0</td></tr>\n",
              "\t<tr><td> 80</td><td>73</td><td>74</td><td>1</td><td>0</td><td>1</td><td>1</td><td>0</td><td>0</td><td>0</td><td>0</td><td>0</td><td>0</td><td>1</td><td>0</td></tr>\n",
              "\t<tr><td> 82</td><td>87</td><td>82</td><td>1</td><td>0</td><td>1</td><td>0</td><td>0</td><td>1</td><td>0</td><td>0</td><td>1</td><td>0</td><td>0</td><td>0</td></tr>\n",
              "\t<tr><td> 65</td><td>94</td><td>93</td><td>0</td><td>0</td><td>1</td><td>0</td><td>1</td><td>0</td><td>0</td><td>0</td><td>0</td><td>0</td><td>0</td><td>0</td></tr>\n",
              "\t<tr><td> 62</td><td>62</td><td>57</td><td>1</td><td>1</td><td>0</td><td>1</td><td>0</td><td>0</td><td>0</td><td>0</td><td>0</td><td>1</td><td>0</td><td>0</td></tr>\n",
              "\t<tr><td> 38</td><td>39</td><td>40</td><td>1</td><td>1</td><td>1</td><td>1</td><td>0</td><td>0</td><td>0</td><td>0</td><td>0</td><td>0</td><td>1</td><td>0</td></tr>\n",
              "</tbody>\n",
              "</table>\n"
            ]
          },
          "metadata": {
            "tags": []
          }
        }
      ]
    },
    {
      "cell_type": "markdown",
      "metadata": {
        "id": "634ad052"
      },
      "source": [
        "### We want to work out if all the independent variables (eg. gender, race, parents education) predict students exam peformance. ###\n",
        "---\n",
        "\n",
        "At the moment, writing, math and reading scores are seperated.   \n",
        "Lets make a new column with the total scores.   \n",
        "\n",
        "To do this we use the ``mutate()`` function \n",
        "\n",
        "``` new_df <- mutate(data, new_column = ....) ```\n",
        "\n",
        "eg: \n",
        "\n",
        "``` new_df <- mutate(data, new_column = column1 / column2) ```  \n",
        "``` new_df <- mutate(data, new_column = column1 + column2) ```  \n",
        "``` new_df <- mutate(data, new_column = column1 * 2) ```  \n",
        "\n",
        "etc..\n",
        "\n",
        "### Exercise 6 ###\n",
        "---\n",
        "\n",
        "Using the mutate function, create a new column called ```total_score``` which contains the sum of each students reading, writing and math scores. "
      ],
      "id": "634ad052"
    },
    {
      "cell_type": "code",
      "metadata": {
        "id": "cd02714d",
        "outputId": "79c2ddb7-bbc0-447a-a7b9-5b4cfc1c154b",
        "colab": {
          "base_uri": "https://localhost:8080/",
          "height": 320
        }
      },
      "source": [
        "performance_total <- mutate(performance_dummy, total_score = math_score + writing_score + reading_score)\n",
        "head(performance_total)"
      ],
      "id": "cd02714d",
      "execution_count": 23,
      "outputs": [
        {
          "output_type": "display_data",
          "data": {
            "text/plain": [
              "  math_score reading_score writing_score gender_male preparation_course_none\n",
              "1 65         76            71            0           1                      \n",
              "2 75         72            69            1           0                      \n",
              "3 62         56            61            0           0                      \n",
              "4 60         60            59            1           0                      \n",
              "5 34         54            55            0           0                      \n",
              "6 53         66            61            0           1                      \n",
              "  lunch_standard ethnicity_group B ethnicity_group C ethnicity_group D\n",
              "1 0              0                 0                 0                \n",
              "2 1              0                 1                 0                \n",
              "3 0              1                 0                 0                \n",
              "4 1              0                 0                 1                \n",
              "5 0              0                 1                 0                \n",
              "6 0              1                 0                 0                \n",
              "  ethnicity_group E parental_education_bachelor's degree\n",
              "1 1                 0                                   \n",
              "2 0                 0                                   \n",
              "3 0                 0                                   \n",
              "4 0                 0                                   \n",
              "5 0                 0                                   \n",
              "6 0                 0                                   \n",
              "  parental_education_high school parental_education_master's degree\n",
              "1 0                              0                                 \n",
              "2 0                              0                                 \n",
              "3 0                              0                                 \n",
              "4 0                              0                                 \n",
              "5 1                              0                                 \n",
              "6 0                              0                                 \n",
              "  parental_education_some college parental_education_some high school\n",
              "1 1                               0                                  \n",
              "2 1                               0                                  \n",
              "3 0                               1                                  \n",
              "4 0                               1                                  \n",
              "5 0                               0                                  \n",
              "6 1                               0                                  \n",
              "  total_score\n",
              "1 212        \n",
              "2 216        \n",
              "3 179        \n",
              "4 179        \n",
              "5 143        \n",
              "6 180        "
            ],
            "text/latex": "A data.frame: 6 × 16\n\\begin{tabular}{r|llllllllllllllll}\n  & math\\_score & reading\\_score & writing\\_score & gender\\_male & preparation\\_course\\_none & lunch\\_standard & ethnicity\\_group B & ethnicity\\_group C & ethnicity\\_group D & ethnicity\\_group E & parental\\_education\\_bachelor's degree & parental\\_education\\_high school & parental\\_education\\_master's degree & parental\\_education\\_some college & parental\\_education\\_some high school & total\\_score\\\\\n  & <int> & <int> & <int> & <int> & <int> & <int> & <int> & <int> & <int> & <int> & <int> & <int> & <int> & <int> & <int> & <int>\\\\\n\\hline\n\t1 & 65 & 76 & 71 & 0 & 1 & 0 & 0 & 0 & 0 & 1 & 0 & 0 & 0 & 1 & 0 & 212\\\\\n\t2 & 75 & 72 & 69 & 1 & 0 & 1 & 0 & 1 & 0 & 0 & 0 & 0 & 0 & 1 & 0 & 216\\\\\n\t3 & 62 & 56 & 61 & 0 & 0 & 0 & 1 & 0 & 0 & 0 & 0 & 0 & 0 & 0 & 1 & 179\\\\\n\t4 & 60 & 60 & 59 & 1 & 0 & 1 & 0 & 0 & 1 & 0 & 0 & 0 & 0 & 0 & 1 & 179\\\\\n\t5 & 34 & 54 & 55 & 0 & 0 & 0 & 0 & 1 & 0 & 0 & 0 & 1 & 0 & 0 & 0 & 143\\\\\n\t6 & 53 & 66 & 61 & 0 & 1 & 0 & 1 & 0 & 0 & 0 & 0 & 0 & 0 & 1 & 0 & 180\\\\\n\\end{tabular}\n",
            "text/markdown": "\nA data.frame: 6 × 16\n\n| <!--/--> | math_score &lt;int&gt; | reading_score &lt;int&gt; | writing_score &lt;int&gt; | gender_male &lt;int&gt; | preparation_course_none &lt;int&gt; | lunch_standard &lt;int&gt; | ethnicity_group B &lt;int&gt; | ethnicity_group C &lt;int&gt; | ethnicity_group D &lt;int&gt; | ethnicity_group E &lt;int&gt; | parental_education_bachelor's degree &lt;int&gt; | parental_education_high school &lt;int&gt; | parental_education_master's degree &lt;int&gt; | parental_education_some college &lt;int&gt; | parental_education_some high school &lt;int&gt; | total_score &lt;int&gt; |\n|---|---|---|---|---|---|---|---|---|---|---|---|---|---|---|---|---|\n| 1 | 65 | 76 | 71 | 0 | 1 | 0 | 0 | 0 | 0 | 1 | 0 | 0 | 0 | 1 | 0 | 212 |\n| 2 | 75 | 72 | 69 | 1 | 0 | 1 | 0 | 1 | 0 | 0 | 0 | 0 | 0 | 1 | 0 | 216 |\n| 3 | 62 | 56 | 61 | 0 | 0 | 0 | 1 | 0 | 0 | 0 | 0 | 0 | 0 | 0 | 1 | 179 |\n| 4 | 60 | 60 | 59 | 1 | 0 | 1 | 0 | 0 | 1 | 0 | 0 | 0 | 0 | 0 | 1 | 179 |\n| 5 | 34 | 54 | 55 | 0 | 0 | 0 | 0 | 1 | 0 | 0 | 0 | 1 | 0 | 0 | 0 | 143 |\n| 6 | 53 | 66 | 61 | 0 | 1 | 0 | 1 | 0 | 0 | 0 | 0 | 0 | 0 | 1 | 0 | 180 |\n\n",
            "text/html": [
              "<table class=\"dataframe\">\n",
              "<caption>A data.frame: 6 × 16</caption>\n",
              "<thead>\n",
              "\t<tr><th></th><th scope=col>math_score</th><th scope=col>reading_score</th><th scope=col>writing_score</th><th scope=col>gender_male</th><th scope=col>preparation_course_none</th><th scope=col>lunch_standard</th><th scope=col>ethnicity_group B</th><th scope=col>ethnicity_group C</th><th scope=col>ethnicity_group D</th><th scope=col>ethnicity_group E</th><th scope=col>parental_education_bachelor's degree</th><th scope=col>parental_education_high school</th><th scope=col>parental_education_master's degree</th><th scope=col>parental_education_some college</th><th scope=col>parental_education_some high school</th><th scope=col>total_score</th></tr>\n",
              "\t<tr><th></th><th scope=col>&lt;int&gt;</th><th scope=col>&lt;int&gt;</th><th scope=col>&lt;int&gt;</th><th scope=col>&lt;int&gt;</th><th scope=col>&lt;int&gt;</th><th scope=col>&lt;int&gt;</th><th scope=col>&lt;int&gt;</th><th scope=col>&lt;int&gt;</th><th scope=col>&lt;int&gt;</th><th scope=col>&lt;int&gt;</th><th scope=col>&lt;int&gt;</th><th scope=col>&lt;int&gt;</th><th scope=col>&lt;int&gt;</th><th scope=col>&lt;int&gt;</th><th scope=col>&lt;int&gt;</th><th scope=col>&lt;int&gt;</th></tr>\n",
              "</thead>\n",
              "<tbody>\n",
              "\t<tr><th scope=row>1</th><td>65</td><td>76</td><td>71</td><td>0</td><td>1</td><td>0</td><td>0</td><td>0</td><td>0</td><td>1</td><td>0</td><td>0</td><td>0</td><td>1</td><td>0</td><td>212</td></tr>\n",
              "\t<tr><th scope=row>2</th><td>75</td><td>72</td><td>69</td><td>1</td><td>0</td><td>1</td><td>0</td><td>1</td><td>0</td><td>0</td><td>0</td><td>0</td><td>0</td><td>1</td><td>0</td><td>216</td></tr>\n",
              "\t<tr><th scope=row>3</th><td>62</td><td>56</td><td>61</td><td>0</td><td>0</td><td>0</td><td>1</td><td>0</td><td>0</td><td>0</td><td>0</td><td>0</td><td>0</td><td>0</td><td>1</td><td>179</td></tr>\n",
              "\t<tr><th scope=row>4</th><td>60</td><td>60</td><td>59</td><td>1</td><td>0</td><td>1</td><td>0</td><td>0</td><td>1</td><td>0</td><td>0</td><td>0</td><td>0</td><td>0</td><td>1</td><td>179</td></tr>\n",
              "\t<tr><th scope=row>5</th><td>34</td><td>54</td><td>55</td><td>0</td><td>0</td><td>0</td><td>0</td><td>1</td><td>0</td><td>0</td><td>0</td><td>1</td><td>0</td><td>0</td><td>0</td><td>143</td></tr>\n",
              "\t<tr><th scope=row>6</th><td>53</td><td>66</td><td>61</td><td>0</td><td>1</td><td>0</td><td>1</td><td>0</td><td>0</td><td>0</td><td>0</td><td>0</td><td>0</td><td>1</td><td>0</td><td>180</td></tr>\n",
              "</tbody>\n",
              "</table>\n"
            ]
          },
          "metadata": {
            "tags": []
          }
        }
      ]
    },
    {
      "cell_type": "markdown",
      "metadata": {
        "id": "v8M5_nr77_b1"
      },
      "source": [
        "### Outliers\n",
        "--- \n",
        "\n",
        "For the purpose of today, as we are more focused on understanding how to read a linear regression output, we wont worry about outliers in the data.   \n",
        "\n",
        "However, removing outliers can improve the quality of your model due to excluding abnormalities in the data and we will look at this in more detail in the future. "
      ],
      "id": "v8M5_nr77_b1"
    },
    {
      "cell_type": "markdown",
      "metadata": {
        "id": "5a5c2c36"
      },
      "source": [
        "### We are now ready to do our multiple linear regression ###\n",
        "---\n",
        "\n",
        "We are looking to find out using our dataset if we can predict student exam performance. \n",
        "\n",
        "Therefore, total_score is our dependent variable (DV) as it can be changed by the other variables \n",
        "\n",
        "Gender, ethnicity, parental_education, lunch and preparation_course are therefore our independent variables (IV) as they cannot be affected by students exam performance.   \n",
        "\n",
        "To do a linear regression, we are going to create a model that tests how significantly the IV's impact the DV.   \n",
        "\n",
        "**how?**\n",
        "\n",
        "``` regression_model <- lm(DV ~ IV1 + IV2 + IV3..., data = df) ```  \n",
        "``` summary(regression_model) ```\n",
        "\n",
        "The above code does a very similar thing to stats.linregress in python! \n",
        "\n",
        "**Some of the new dummy variable names are seperated by spaces, so to include them incase them in \\` ` (backtick)**\n",
        "\n",
        "eg. \\` ethnicity_group B `\n",
        "\n",
        "### Exercise 7 ###\n",
        "---\n",
        "Perform a linear regression using total_score as the DV and display the summary data \n"
      ],
      "id": "5a5c2c36"
    },
    {
      "cell_type": "code",
      "metadata": {
        "id": "54c682af",
        "outputId": "9c885171-7912-46d1-d57b-a284e810077f",
        "colab": {
          "base_uri": "https://localhost:8080/",
          "height": 442
        }
      },
      "source": [
        "performance_regression <- lm(total_score ~ gender_male + preparation_course_none + `ethnicity_group B` + `ethnicity_group C` + `ethnicity_group D` +`ethnicity_group E`, data = performance_total)\n",
        "summary(performance_regression)"
      ],
      "id": "54c682af",
      "execution_count": 29,
      "outputs": [
        {
          "output_type": "display_data",
          "data": {
            "text/plain": [
              "\n",
              "Call:\n",
              "lm(formula = total_score ~ gender_male + preparation_course_none + \n",
              "    `ethnicity_group B` + `ethnicity_group C` + `ethnicity_group D` + \n",
              "    `ethnicity_group E`, data = performance_total)\n",
              "\n",
              "Residuals:\n",
              "     Min       1Q   Median       3Q      Max \n",
              "-158.236  -26.042    0.262   28.249   94.100 \n",
              "\n",
              "Coefficients:\n",
              "                        Estimate Std. Error t value             Pr(>|t|)    \n",
              "(Intercept)             219.2697     4.8830  44.905 < 0.0000000000000002 ***\n",
              "gender_male             -13.1753     2.5538  -5.159   0.0000002996553982 ***\n",
              "preparation_course_none -20.7167     2.6568  -7.797   0.0000000000000159 ***\n",
              "`ethnicity_group B`      -4.6534     5.2971  -0.878               0.3799    \n",
              "`ethnicity_group C`      -0.8017     5.0004  -0.160               0.8727    \n",
              "`ethnicity_group D`      11.6828     5.1194   2.282               0.0227 *  \n",
              "`ethnicity_group E`      25.6437     5.5091   4.655   0.0000036825161996 ***\n",
              "---\n",
              "Signif. codes:  0 ‘***’ 0.001 ‘**’ 0.01 ‘*’ 0.05 ‘.’ 0.1 ‘ ’ 1\n",
              "\n",
              "Residual standard error: 40.28 on 993 degrees of freedom\n",
              "Multiple R-squared:  0.1383,\tAdjusted R-squared:  0.1331 \n",
              "F-statistic: 26.57 on 6 and 993 DF,  p-value: < 0.00000000000000022\n"
            ]
          },
          "metadata": {
            "tags": []
          }
        }
      ]
    },
    {
      "cell_type": "markdown",
      "metadata": {
        "id": "39a48f86"
      },
      "source": [
        "### Lets understand the output ### \n",
        "---\n",
        "\n",
        "**Statistical significance**\n",
        "\n",
        "If something is statistically significant it means that the probability that the hypothesis (the thing your asking) is true/correct, is very very high aka less than 5% chance that the effect on the DV is random. \n",
        "\n",
        "So when reading a regression output, if the p-value (the right hand column) is less than 0.05 then it means it is significant, and more than 95% likely to be affecting the DV. \n",
        "\n",
        "In R, *'s are used to indicate which variables are significantly predicting the dependent variable. \n",
        "\n",
        "**The regression equation** \n",
        "\n",
        "The equation for a line of best fit is y = mx + c or y = slope*x + intercept. \n",
        "\n",
        "y = dependent variable\n",
        "x = independent variable\n",
        "\n",
        "In a multiple linear regression, we have multiple x. \n",
        "\n",
        "The equation is therefore:\n",
        "\n",
        "```y = intercept + slope1*x1 + slope2*x2... ```\n",
        "\n",
        "Each x (IV) has its own slope. \n",
        "\n",
        "**Coefficents (slope)**\n",
        "\n",
        "The estimates column lists all the regression coefficents (slopes) for each variable. What these mean in simple terms is how much the dependent variable is increased or decreased by that variable. These only matter however, if the variable is significant.   \n",
        "\n",
        "So for example, if gender_male was significant (p-value < 0.05) and had a positive coefficent, it would mean that male students were performing significantly better in their exams than female students. Therefore, gender predicted exam performance. A negative coefficent would mean that the score is less for males or rather more for females. \n",
        "\n",
        "**R squared**\n",
        "\n",
        "R^2 is how well your variables explain the variance in value of the dependent variable. So the higher the R^2 value, the better your model explains the change in value of your dependent variable. \n",
        "\n",
        "A low R^2 doesnt necessarily mean that your model is bad, but indicates that the variables in your dataset are not telling the whole story! \n",
        "\n",
        "For example, a R^2 of 0.50 would mean that your data only explains 50% of the change in scores between each student. \n",
        "\n",
        "Essentially it tells you how well your model fits the data. \n",
        "\n",
        "\n",
        "**F-Statistic**\n",
        "\n",
        "It shows results of a complex mathematical formula. But we only need to worry about it's significance! If your F statistic is significant ( p-value < 0.05), it means that when compared with a model which does not have any of the independent variables in it, your model is better. \n",
        "\n",
        "\n",
        "### Exercise 8 ###\n",
        "---\n",
        "\n",
        "Read the regression output and write some comments on the findings. \n",
        "Try to note which variables are significant, and evaluate how well the variables explain student performance. \n"
      ],
      "id": "39a48f86"
    },
    {
      "cell_type": "code",
      "metadata": {
        "id": "99d26544"
      },
      "source": [
        ""
      ],
      "id": "99d26544",
      "execution_count": null,
      "outputs": []
    },
    {
      "cell_type": "markdown",
      "metadata": {
        "id": "e23d1213"
      },
      "source": [
        "### Assumptions ###\n",
        "---\n",
        "When we do linear regressions we have to assume that our data is guassian (normally distributed). We therefore now need to test that our assumptions of normality are true and that our model is therefore meaningful. \n",
        "\n",
        "1. linearity :\n",
        "\n",
        "``` plot(model, 1) ```\n",
        "\n",
        "A largely horizontal line at about 0 means that our data has good linearity, meaning our model is good!\n",
        "\n",
        "2. Q-Q plot or P-P plot: \n",
        "\n",
        "``` plot(model, 2) ```\n",
        "\n",
        "The points following a straightish diagonal line means that again we have good normality. \n",
        "\n",
        "\n",
        "### Exercise 9 ###\n",
        "---\n",
        "\n",
        "Check both the assumptions of your model and write a comment with your findings"
      ],
      "id": "e23d1213"
    },
    {
      "cell_type": "code",
      "metadata": {
        "id": "4d1f4186"
      },
      "source": [
        ""
      ],
      "id": "4d1f4186",
      "execution_count": null,
      "outputs": []
    },
    {
      "cell_type": "markdown",
      "metadata": {
        "id": "ZwGSPCR_Dwud"
      },
      "source": [
        "# Exploring the data\n",
        "---\n",
        "\n",
        "In the previous exercises, we only looked at the effect on total score. Now that we know that some of our variables did significantly predict student exam scores let's explore it in more detail. \n",
        "\n",
        "### Exercise 10\n",
        "---\n",
        "\n",
        "* Run a regression called `write_mod` using `writing_score` as the DV \n",
        "* Run a regression called `read_mod` using `reading_score` as the DV\n",
        "* Run a regression called `math_mod` using `math_score` as the DV \n",
        "* Compare the results with the model from exercise 7 and comment your findings\n",
        "* Compare the results of each model with each other. What inferences can you \n",
        "make?\n",
        "* Look at the difference in coefficents of significant variables between models - what does it tell you?\n"
      ],
      "id": "ZwGSPCR_Dwud"
    },
    {
      "cell_type": "code",
      "metadata": {
        "id": "nbBN0RoUJQww"
      },
      "source": [
        ""
      ],
      "id": "nbBN0RoUJQww",
      "execution_count": null,
      "outputs": []
    },
    {
      "cell_type": "markdown",
      "metadata": {
        "id": "JgibNCXnKvHE"
      },
      "source": [
        "# Reflection\n",
        "----\n",
        "\n",
        "## What skills have you demonstrated in completing this notebook?"
      ],
      "id": "JgibNCXnKvHE"
    },
    {
      "cell_type": "markdown",
      "metadata": {
        "id": "PWZ6NctwKv88"
      },
      "source": [
        "Your answer:"
      ],
      "id": "PWZ6NctwKv88"
    },
    {
      "cell_type": "markdown",
      "metadata": {
        "id": "Y4SWfDOCKz34"
      },
      "source": [
        "## What caused you the most difficulty?"
      ],
      "id": "Y4SWfDOCKz34"
    },
    {
      "cell_type": "markdown",
      "metadata": {
        "id": "Y84WximLK0gL"
      },
      "source": [
        "Your answer:"
      ],
      "id": "Y84WximLK0gL"
    }
  ]
}