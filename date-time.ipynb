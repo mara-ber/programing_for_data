{
 "cells": [
  {
   "cell_type": "markdown",
   "metadata": {
    "id": "7iQyKP-SQiw1"
   },
   "source": [
    "# User-defined functions using datetime library\n",
    "\n",
    "---\n"
   ]
  },
  {
   "cell_type": "markdown",
   "metadata": {
    "id": "Vi93h5I4QnKs"
   },
   "source": [
    "When working with dates and times, fairly common in data sets, we need to be able to extract certain bits of information.  \n",
    "\n",
    "In Python, as with other languages, dates and times are stored in a data structure that combines the two together and stores the information as a number of seconds since a start point (often 1st January 1900).  This is obviously a large number but every bit of information about a date can be extracted from it and used to give a wide range of information.  \n",
    "\n",
    "Have a go at the exercises below to use a selection of datetime functions and return a new bit of data from each, to be printed by the caller.\n",
    "\n",
    "Before you can use datetime functions you will need to import them. Import the datetime functions like this:\n",
    "\n",
    "`from datetime import datetime`  \n",
    "\n",
    "\n",
    "For more information about datetime functions visit [w3Schools-Python datetime](https://www.w3schools.com/python/python_datetime.asp) and [Python docs](https://docs.python.org/3/library/datetime.html)"
   ]
  },
  {
   "cell_type": "markdown",
   "metadata": {
    "id": "MIDLi7CNR034"
   },
   "source": [
    "---\n",
    "### Exercise 1 - print current date and time\n",
    "\n",
    "Write a function that will return the date and time now.  The caller will print it.  \n",
    "\n",
    "*Hint:  the format has been added for you, the other exercises will follow a similar format.   Always remember to import datetime from datetime as shown below*"
   ]
  },
  {
   "cell_type": "code",
   "execution_count": 1,
   "metadata": {
    "colab": {
     "base_uri": "https://localhost:8080/"
    },
    "id": "gS6GJdXbQfHp",
    "outputId": "502c49d9-ea70-431e-9756-62884ac5a584"
   },
   "outputs": [
    {
     "name": "stdout",
     "output_type": "stream",
     "text": [
      "2021-08-25 15:47:50.859072+00:00\n"
     ]
    }
   ],
   "source": [
    "from datetime import datetime, timezone\n",
    "# add your function, called get_datetime_now() below here\n",
    "\n",
    "\n",
    "\n",
    "now_date_time = datetime.now(timezone.utc)\n",
    "print(now_date_time)"
   ]
  },
  {
   "cell_type": "markdown",
   "metadata": {
    "id": "Yy24sL0bUtpF"
   },
   "source": [
    "---\n",
    "Exercise 2 - print the current year\n",
    "\n",
    "Write a function that will return the current year.  The caller will print the year."
   ]
  },
  {
   "cell_type": "code",
   "execution_count": 2,
   "metadata": {
    "id": "YqlQqPIqUtyr"
   },
   "outputs": [
    {
     "name": "stdout",
     "output_type": "stream",
     "text": [
      "2021\n"
     ]
    }
   ],
   "source": [
    "print(now_date_time.year)"
   ]
  },
  {
   "cell_type": "markdown",
   "metadata": {
    "id": "FzSVCaJKV1O1"
   },
   "source": [
    "---\n",
    "### Exercise 3 - print the current day of the week\n",
    "\n",
    "Write a function that will return the current day of the week.  The caller will print it."
   ]
  },
  {
   "cell_type": "code",
   "execution_count": 3,
   "metadata": {
    "id": "OP4ZIXBWV1Yj"
   },
   "outputs": [
    {
     "name": "stdout",
     "output_type": "stream",
     "text": [
      "Wednesday\n"
     ]
    }
   ],
   "source": [
    "print(now_date_time.strftime(\"%A\"))"
   ]
  },
  {
   "cell_type": "markdown",
   "metadata": {
    "id": "a8euCtdmWIDE"
   },
   "source": [
    "---\n",
    "### Exercise 4 - create a new date\n",
    "\n",
    "Write a function that will take 3 parameters, year, month, day (3 numbers that make a valid date) and will create, and return a new date.  The caller will print the date."
   ]
  },
  {
   "cell_type": "code",
   "execution_count": 4,
   "metadata": {
    "id": "FbOFnTwnWILN"
   },
   "outputs": [
    {
     "name": "stdout",
     "output_type": "stream",
     "text": [
      "2021-07-25 00:00:00\n"
     ]
    }
   ],
   "source": [
    "x = datetime(2021, 7, 25)\n",
    "print(x)"
   ]
  },
  {
   "cell_type": "markdown",
   "metadata": {
    "id": "f5SKVuE0WfcE"
   },
   "source": [
    "---\n",
    "### Exercise 5 - create a valid date\n",
    "\n",
    "Write a function that will take 3 parameters, year, month, day (3 numbers) and will:  \n",
    "*   check that the month is between 1 and 12  \n",
    "*   check that the day is valid for the month (e.g. if the month is 2, then the day must be between 1 and 28 (don't worry about leap years for the moment)  \n",
    "*   if the date is not valid, print an error message and return None (which the caller will print)  \n",
    "*   if the date is valid, store it in a new variable, return the variable and the caller will print it."
   ]
  },
  {
   "cell_type": "code",
   "execution_count": 5,
   "metadata": {
    "id": "gclt-f9-XfdG"
   },
   "outputs": [
    {
     "data": {
      "text/plain": [
       "'error 1'"
      ]
     },
     "execution_count": 5,
     "metadata": {},
     "output_type": "execute_result"
    }
   ],
   "source": [
    "def date_check(y,m,d) :\n",
    "    if ((m > 12) | (m < 1)):\n",
    "        return \"error\"\n",
    "    elif ((d<1) | (d>31)):\n",
    "        return \"error; date is invalid\"\n",
    "    if (m == 2):\n",
    "            if (d>28) :\n",
    "                return \"error 1\"\n",
    "            return \"ok 1\"\n",
    "    else:\n",
    "        return \"ok\"\n",
    "\n",
    "date_check(2021, 2, 29)\n"
   ]
  },
  {
   "cell_type": "markdown",
   "metadata": {
    "id": "js7fy2HWXfm2"
   },
   "source": [
    "---\n",
    "### Exercise 6 - is it a leap year?\n",
    "\n",
    "Write a function that will take a date as a parameter (you will need to create the date variable before calling the function) and will determine if it is a leap year, returning True or False.\n",
    "\n",
    "*Hint:  a leap year is a year that is divisible by 4 but the centuries (1900, 2000, etc are only leap years if they are divisible by 400)*"
   ]
  },
  {
   "cell_type": "code",
   "execution_count": 15,
   "metadata": {
    "id": "KY1jtf3lX_ps"
   },
   "outputs": [
    {
     "name": "stdout",
     "output_type": "stream",
     "text": [
      "12\n",
      "1996 is not a leap year\n"
     ]
    }
   ],
   "source": [
    "from datetime import datetime\n",
    "def is_leap_year(date_to_check):\n",
    "    n= date_to_check.year/400\n",
    "    if isinstance(n, int):\n",
    "        return True\n",
    "    else:\n",
    "        return False\n",
    "\n",
    "\n",
    "check_date = datetime(1996, 12, 15)\n",
    "print(check_date.month)\n",
    "if is_leap_year(check_date):\n",
    "  print(check_date.strftime(\"%Y\"), \"is a leap year\")\n",
    "else:\n",
    "  print(check_date.strftime(\"%Y\"), \"is not a leap year\")"
   ]
  },
  {
   "cell_type": "markdown",
   "metadata": {
    "id": "9BuRDi08YAO0"
   },
   "source": [
    "---\n",
    "### Exercise 7 - display parts of date/time\n",
    "\n",
    "Write a function that will take a date and print from it the following:  \n",
    "*  given date and time  \n",
    "*  year (in full) \n",
    "*  month (as a number) \n",
    "*  month name \n",
    "*  week number of the year  \n",
    "*  weekday of the week (as a number)  \n",
    "*  day of year  \n",
    "*  day of the month  \n",
    "*  day of week (as a name)  \n",
    "\n",
    "*Hint:  see w3Schools for [strftime reference](https://www.w3schools.com/python/python_datetime.asp)*\n",
    "\n"
   ]
  },
  {
   "cell_type": "code",
   "execution_count": 17,
   "metadata": {
    "id": "zl-37Ez9ahym"
   },
   "outputs": [
    {
     "name": "stdout",
     "output_type": "stream",
     "text": [
      "1996\n",
      "12\n",
      "December\n",
      "50\n",
      "0\n",
      "350\n",
      "15\n",
      "Sunday\n"
     ]
    }
   ],
   "source": [
    "def display_info(date):\n",
    "    print(date.year)\n",
    "    print(date.month)\n",
    "    print(date.strftime(\"%B\"))\n",
    "    print(date.strftime(\"%U\"))\n",
    "    print(date.strftime(\"%w\"))\n",
    "    print(date.strftime(\"%j\"))\n",
    "    print(date.strftime(\"%d\"))\n",
    "    print(date.strftime(\"%A\"))\n",
    "    \n",
    "info_date = datetime(1996, 12, 15)\n",
    "display_info(info_date)\n"
   ]
  },
  {
   "cell_type": "markdown",
   "metadata": {
    "id": "_rpTIoSDaiBj"
   },
   "source": [
    "---\n",
    "### Exercise 8 - next 6 days\n",
    "\n",
    "Write a function that will take a date and generate the dates of the following 6 days.  It should print each of the 6 days in the form:  \n",
    "\n",
    "DAY OF THE WEEK, MONTH NAME, FULL YEAR\n",
    "\n",
    "Hint:  to generate the days, use the function datetime.timedelta(), there is a good example of its use [here](https://www.geeksforgeeks.org/python-datetime-timedelta-function/)  "
   ]
  },
  {
   "cell_type": "code",
   "execution_count": null,
   "metadata": {
    "id": "1d-oXqLLb0vX"
   },
   "outputs": [],
   "source": []
  },
  {
   "cell_type": "code",
   "execution_count": null,
   "metadata": {
    "id": "mUr7S2Vn2H80"
   },
   "outputs": [],
   "source": []
  },
  {
   "cell_type": "markdown",
   "metadata": {
    "id": "0xNhldfM02FH"
   },
   "source": [
    "### Exercise 9 - modify date format in a dataframe with a custom function\n",
    "---\n",
    "\n",
    "Read the data set 'page_views.csv' from \"https://raw.githubusercontent.com/futureCodersSE/working-with-data/main/Data%20sets/page_views.csv\"\n",
    "\n",
    "Using dataframe.apply(), modify the dates, which are currently strings, so that they are in date format.\n",
    "\n",
    "This is a relatively small data set, so let's use this as a way to look into how an applied function works.\n",
    "\n",
    "1.  Read the data set into a dataframe and display information about it (you will see that the date is of dtype 'object' which means that it could be any data structure\n",
    "\n",
    "2.  Print the date from the first record - you will see that this is a string ('2016-05-09')\n",
    "\n",
    "3.  As a test, convert this string into a valid date (maybe take the date string, split it into three components, year, month, day and create a new datetime from this - you could use the function you wrote for Exercise 5\n",
    "\n",
    "4.  Apply a function that will convert the date (string) column in the dataframe to a date (datetime) column.  (First step - print df['date'] so that you can see that there is just one row in df in the function)\n",
    "\n"
   ]
  },
  {
   "cell_type": "code",
   "execution_count": 7,
   "metadata": {
    "id": "qsCMTwuK1zew"
   },
   "outputs": [
    {
     "name": "stdout",
     "output_type": "stream",
     "text": [
      "<class 'pandas.core.frame.DataFrame'>\n",
      "RangeIndex: 1304 entries, 0 to 1303\n",
      "Data columns (total 2 columns):\n",
      " #   Column  Non-Null Count  Dtype         \n",
      "---  ------  --------------  -----         \n",
      " 0   date    1304 non-null   datetime64[ns]\n",
      " 1   value   1304 non-null   int64         \n",
      "dtypes: datetime64[ns](1), int64(1)\n",
      "memory usage: 20.5 KB\n"
     ]
    }
   ],
   "source": [
    "import pandas as pd\n",
    "from datetime import datetime\n",
    "\n",
    "\n",
    "def convert_date(df):\n",
    "  text_date = df['date']\n",
    "  split_date = text_date.split('-')\n",
    "  new_date = datetime(int(split_date[0]), int(split_date[1]), int(split_date[2]))\n",
    "  return new_date\n",
    "\n",
    "url = \"https://raw.githubusercontent.com/futureCodersSE/working-with-data/main/Data%20sets/page_views.csv\"\n",
    "page_views = pd.read_csv(url)\n",
    "page_views['date'] = page_views.apply(convert_date, axis=1)\n",
    "page_views.info()"
   ]
  },
  {
   "cell_type": "code",
   "execution_count": null,
   "metadata": {
    "id": "7kNdZy7C8qZA"
   },
   "outputs": [],
   "source": []
  },
  {
   "cell_type": "markdown",
   "metadata": {
    "id": "tQlJkazC6Dpt"
   },
   "source": [
    "### Exercise 10 - here's a challenge\n",
    "---\n",
    "\n",
    "Now that the date is in datetime format, it is possible that you could check for missing dates.\n",
    "\n",
    "1.  Run the code from Exercise 9 to ensure that you have datetime objects and not strings.\n",
    "\n",
    "2.  Sort the dataframe by date (ascending)\n",
    "\n",
    "3.  Starting with the first date, generate a new column with the same number of rows as the dataframe, which contains datetime objects sequentially by day\n",
    "\n",
    "4.  Write a function that takes the dataframe as a parameter, and the next date (see Exercise 8), finds the first row where the generated date and the actual date are not equal and returns the index of this row, or -1 if they are all equal (Hint:  use a filter to find the rows where there is a difference, return the index of the first row - df[df['date'] != df['seq_date']].index[0]"
   ]
  },
  {
   "cell_type": "code",
   "execution_count": null,
   "metadata": {
    "id": "seWgiVE78VBy"
   },
   "outputs": [],
   "source": []
  },
  {
   "cell_type": "markdown",
   "metadata": {
    "id": "22Rhwx2Sb1Ey"
   },
   "source": [
    "---\n",
    "### Optional extra practice\n",
    "\n",
    "There are some similar and some more challenging exercises [here](https://www.w3resource.com/python-exercises/date-time-exercise/) if you would like to practice more. The site has its own editor."
   ]
  }
 ],
 "metadata": {
  "colab": {
   "collapsed_sections": [],
   "name": "Working with datetime.ipynb",
   "provenance": []
  },
  "kernelspec": {
   "display_name": "Python 3",
   "language": "python",
   "name": "python3"
  },
  "language_info": {
   "codemirror_mode": {
    "name": "ipython",
    "version": 3
   },
   "file_extension": ".py",
   "mimetype": "text/x-python",
   "name": "python",
   "nbconvert_exporter": "python",
   "pygments_lexer": "ipython3",
   "version": "3.8.10"
  }
 },
 "nbformat": 4,
 "nbformat_minor": 1
}
